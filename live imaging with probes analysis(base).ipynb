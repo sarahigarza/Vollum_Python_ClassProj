{
 "cells": [
  {
   "cell_type": "code",
   "execution_count": 462,
   "id": "50201237-3ce0-483a-8a77-b8b55d6a9fff",
   "metadata": {},
   "outputs": [],
   "source": [
    "import pandas as pd \n",
    "import numpy as np \n",
    "import matplotlib.pyplot as plt \n",
    "%matplotlib inline\n",
    "import pathlib as pl \n",
    "import scipy.stats as ss\n",
    "from detecta import detect_peaks\n",
    "from matplotlib.patches import Rectangle\n",
    "import os.path #helps accessing file path \n",
    "import glob #library for locating file paths with text searching\n",
    "import seaborn as sns "
   ]
  },
  {
   "cell_type": "markdown",
   "id": "aac1951d-27ad-412b-9062-e25a772886e4",
   "metadata": {},
   "source": [
    "##"
   ]
  },
  {
   "cell_type": "code",
   "execution_count": 3,
   "id": "2470ca2a-2aaf-45fb-8141-626bee9c2fb7",
   "metadata": {},
   "outputs": [],
   "source": []
  },
  {
   "cell_type": "markdown",
   "id": "9235ae4f-91b1-4615-8ce9-1c9c451c2415",
   "metadata": {},
   "source": [
    "# Familiarzing ourselves with Ca2+ Imaging data \n",
    "Note that these Ca2+ Imaging files are separated by condition and each condition has multiple trials. Each trial is a .csv file that has data collected from a live video. In our .cvs file, each row is a frame in the video (there are a total of 410 frames in these videos) and the columns of our .csv file represent a cell- each trial has a different number of cells. The numbers represent changes in fluorescence intensity of our ca2+ sensor in every cell at every frame. \n",
    "## Exercise 1 \n",
    "Sometimes we might have all of our data in one file as we slowly collect it. As we have seen in the last 9 weeks, lets take a look at one of our DMSO (vehicle control) trials. Using the pd.read_csv function, make it an array and save our DMSO1 trial to DMSO_trial1. \n",
    "###### How many cells are in our DMSO trial 1? (hint: check its shape)"
   ]
  },
  {
   "cell_type": "code",
   "execution_count": 65,
   "id": "d2339ed1-b60e-4f83-8e1c-9eb821f3306d",
   "metadata": {},
   "outputs": [
    {
     "name": "stdout",
     "output_type": "stream",
     "text": [
      "DMSO_trial1 has 66 cells\n"
     ]
    }
   ],
   "source": [
    "#Answer \n",
    "D= pd.read_csv('data/DMSO/DMSO1.csv', header=None,index_col=0)\n",
    "DMSO_trial1=D.values\n",
    "print(\"DMSO_trial1 has\",DMSO_trial1.shape[1], \"cells\")"
   ]
  },
  {
   "cell_type": "markdown",
   "id": "ab3d35ab-da29-47b4-8569-86523752c2d1",
   "metadata": {},
   "source": [
    "## Normalizing Our Data \n",
    "For all of our data sets we will normalize our data to the first 5 frames. "
   ]
  },
  {
   "cell_type": "code",
   "execution_count": 86,
   "id": "185cd02e-aa74-4633-ac34-4a57206b0047",
   "metadata": {},
   "outputs": [],
   "source": [
    "baseline=np.mean(DMSO_trial1[:5,:],axis=0,keepdims=True)\n",
    "DMSO_trial1_norm= DMSO_trial1/baseline "
   ]
  },
  {
   "cell_type": "markdown",
   "id": "833be8a6-5fd5-44ee-98c5-aceca9299bf5",
   "metadata": {},
   "source": [
    "## Measuring Changes in Oscillations  \n",
    "Pancreatic Beta Cells oscillate so we need ... \n",
    "Images below are from https://blog.ytotech.com/2015/11/01/findpeaks-in-python/ \n",
    "<img src=\"images/matlab_findpeaks.jpg\">"
   ]
  },
  {
   "cell_type": "markdown",
   "id": "e058f0ca-6f36-4a30-a08c-b22458955bd6",
   "metadata": {},
   "source": [
    "There is no findpeaks function in python, but Marcos Duarte wrote a package called \"detecta\" to help us detect peaks with python the way we would in  matlab (https://nbviewer.org/github/demotu/BMC/blob/master/notebooks/DetectPeaks.ipynb). \n",
    "<img src=\"images/python_findpeaks![python_findpeaks.jpg]\">"
   ]
  },
  {
   "cell_type": "code",
   "execution_count": 311,
   "id": "8a328712-376b-4dd8-9c58-044fc18c90f0",
   "metadata": {},
   "outputs": [
    {
     "data": {
      "text/plain": [
       "10.348484848484848"
      ]
     },
     "execution_count": 311,
     "metadata": {},
     "output_type": "execute_result"
    }
   ],
   "source": [
    "#find peaks for DMSO_trial1 using detect peaks from detecta before and after irradiation\n",
    "UV1f= 150 #frame number where first irradiation occurred\n",
    "UV2f= 300\n",
    "ypeakthreshold= 1.25 #only count peak if it is 1.25 larger, peak must be at least this value greater in y than signal before / after, mph \n",
    "xpeakthreshold= 2 #finds tallest peak and eliminates peak in x direction on either side of peak mpd, \n",
    "all_peaks=[]\n",
    "all_cells_peaks = list()\n",
    "for cell  in range(DMSO_trial1_norm.shape[1]):                   #here if I dind one peak mtg my y condition, I eliminate all peaks 2 positions to the left and right\n",
    "    findprepeak= detect_peaks(DMSO_trial1_norm[:UV1f,cell], mph=ypeakthreshold, mpd=xpeakthreshold) #find peaks withindataset and generate an array\n",
    "    all_peaks.append(findprepeak)\n",
    "    all_cells_peaks.append(len(findprepeak))\n",
    "mean_peak_count = sum(all_cells_peaks) / DMSO_trial1_norm.shape[1]\n",
    "mean_peak_count"
   ]
  },
  {
   "cell_type": "code",
   "execution_count": 282,
   "id": "a01aebdb-dcb3-4222-b9e8-713463aedb33",
   "metadata": {},
   "outputs": [
    {
     "data": {
      "text/plain": [
       "66"
      ]
     },
     "execution_count": 282,
     "metadata": {},
     "output_type": "execute_result"
    }
   ],
   "source": []
  },
  {
   "cell_type": "code",
   "execution_count": 238,
   "id": "60ea6d10-8165-42c4-93a3-ad2b8ce8c2a3",
   "metadata": {},
   "outputs": [
    {
     "data": {
      "text/plain": [
       "array([1.25051041, 5.6334218 , 4.94751259, 2.67566694, 2.5998707 ,\n",
       "       1.29159861])"
      ]
     },
     "execution_count": 238,
     "metadata": {},
     "output_type": "execute_result"
    },
    {
     "data": {
      "image/png": "[encoded data removed]",
      "text/plain": [
       "<Figure size 432x288 with 1 Axes>"
      ]
     },
     "metadata": {
      "needs_background": "light"
     },
     "output_type": "display_data"
    }
   ],
   "source": [
    "\n",
    "cell=1\n",
    "fig, ax = plt.subplots()\n",
    "ax.plot(DMSO_trial1_norm[:UV1f,cell]); \n",
    "ax.scatter(all_peaks[cell], DMSO_trial1_norm[:UV1f,cell][all_peaks[cell]], color=\"red\" )\n",
    "DMSO_trial1_norm[0:150,cell][all_peaks[cell]]\n",
    "#DMSO_trial1_norm[0:150,:][all_peaks[0],0]"
   ]
  },
  {
   "cell_type": "code",
   "execution_count": 237,
   "id": "02320757-d2d8-48a7-9d6b-d3bd04be47a4",
   "metadata": {},
   "outputs": [],
   "source": [
    "#testing \n",
    "D2= pd.read_csv('data/DMSO/DMSO2.csv', header=None,index_col=0)\n",
    "DMSO_trial2=D2.values\n",
    "baseline2=np.mean(DMSO_trial2[:5,:],axis=0,keepdims=True)\n",
    "DMSO_trial2_norm= DMSO_trial2/baseline2 "
   ]
  },
  {
   "cell_type": "code",
   "execution_count": 239,
   "id": "8eb1bdcd-605b-4f18-8414-3c6a6402969f",
   "metadata": {},
   "outputs": [
    {
     "data": {
      "text/plain": [
       "12.64406779661017"
      ]
     },
     "execution_count": 239,
     "metadata": {},
     "output_type": "execute_result"
    }
   ],
   "source": [
    "UV1f= 150 #frame number where first irradiation occurred\n",
    "UV2f= 300\n",
    "ypeakthreshold= 1.25 #only count peak if it is 1.25 larger, peak must be at least this value greater in y than signal before / after, mph \n",
    "xpeakthreshold= 2 #finds tallest peak and eliminates peak in x direction on either side of peak mpd, \n",
    "all_peaks=[]\n",
    "all_cells_peaks = list()\n",
    "for cell  in range(DMSO_trial2_norm.shape[1]):                   #here if I dind one peak mtg my y condition, I eliminate all peaks 2 positions to the left and right\n",
    "    findprepeak= detect_peaks(DMSO_trial2_norm[:UV1f,cell], mph=ypeakthreshold, mpd=xpeakthreshold) #find peaks withindataset and generate an array\n",
    "    all_peaks.append(findprepeak)\n",
    "    all_cells_peaks.append(len(findprepeak))\n",
    "mean_peak_count = sum(all_cells_peaks) / DMSO_trial2_norm.shape[1]\n",
    "mean_peak_count"
   ]
  },
  {
   "cell_type": "code",
   "execution_count": null,
   "id": "d9209350-e8e5-4b51-b1aa-ba5ea2ea0bb9",
   "metadata": {},
   "outputs": [],
   "source": []
  },
  {
   "cell_type": "markdown",
   "id": "8b06753b-e4fd-4561-8f80-5e7a2eb41ccf",
   "metadata": {},
   "source": [
    "## Exercise 2 \n",
    "For DMSO_trial1_norm, find the peaks in the frames between UV1f and UVf2 and set these to \"findpostpeak.\" Then, normalize the number of findpostpeak to the total number of cells in DMSO_trial1- set this to \"postpeaksnorm.\""
   ]
  },
  {
   "cell_type": "code",
   "execution_count": 227,
   "id": "9cbfda48-d4fa-4499-8d07-f17e94ecdf13",
   "metadata": {},
   "outputs": [
    {
     "data": {
      "text/plain": [
       "12.787878787878787"
      ]
     },
     "execution_count": 227,
     "metadata": {},
     "output_type": "execute_result"
    }
   ],
   "source": [
    "#answer \n",
    "UV1f= 150 #frame number where first irradiation occurred\n",
    "UV2f= 300\n",
    "ypeakthreshold= 1.25 #only count peak if it is 1.25 larger, peak must be at least this value greater in y than signal before / after, mph \n",
    "xpeakthreshold= 2 #finds tallest peak and eliminates peak in x direction on either side of peak mpd, \n",
    "all_postpeaks=[]\n",
    "allpost_cells_peaks = list()\n",
    "for cell  in range(DMSO_trial1_norm.shape[1]):                 \n",
    "    findpostpeak= detect_peaks(DMSO_trial1_norm[UV1f:UV2f,cell], mph=ypeakthreshold, mpd=xpeakthreshold) #find peaks withindataset and generate an array\n",
    "    all_postpeaks.append(findprepeak)\n",
    "    allpost_cells_peaks.append(len(findpostpeak))\n",
    "mean_post_peak_count = sum(allpost_cells_peaks) / DMSO_trial1_norm.shape[1]\n",
    "mean_post_peak_count "
   ]
  },
  {
   "cell_type": "markdown",
   "id": "81dec6fd-7766-4b0f-8084-7d7c3808ad18",
   "metadata": {},
   "source": []
  },
  {
   "cell_type": "markdown",
   "id": "5c954afd-8fc2-4388-9eaa-374b8bd3ce6e",
   "metadata": {
    "tags": []
   },
   "source": [
    "# Organizing Our Data to Find Fold Changes in Peaks \n",
    "We have 3 different Conditions: DMSO, GPR55 Inhibitor (CID for short), and OCTPEA. Let's say you cannot remember what conditions are in your data folder. Using pathlib's function pl.path, we can look at all the items in our data folder like so. "
   ]
  },
  {
   "cell_type": "code",
   "execution_count": 4,
   "id": "df7fa461-26ee-4a63-9f38-352ac779800a",
   "metadata": {},
   "outputs": [
    {
     "name": "stdout",
     "output_type": "stream",
     "text": [
      "[WindowsPath('data/DMSO'), WindowsPath('data/GPR55 Inhibitior'), WindowsPath('data/OCTPEA'), WindowsPath('data/traces_15_131_2_CFP.csv'), WindowsPath('data/traces_15_131_2_YFP.csv')]\n"
     ]
    }
   ],
   "source": [
    "datapath=pl.Path(\"data\")\n",
    "print (list(datapath.iterdir()))"
   ]
  },
  {
   "cell_type": "markdown",
   "id": "ddbdc85f-b8e5-48eb-b3d4-e727429c42b8",
   "metadata": {},
   "source": [
    "Each output is a different folder. I separated all my paths for each condition in order to pull all the trials within each condition later."
   ]
  },
  {
   "cell_type": "code",
   "execution_count": 102,
   "id": "14c1c38b-8908-4a0e-b2ed-2b1e89b965f7",
   "metadata": {},
   "outputs": [],
   "source": [
    "DMSOpath = 'data/DMSO/' # use your path\n",
    "DMSOfiles = glob.glob(DMSOpath + \"/*.csv\")\n",
    "OCTPEApath= 'data/OCTPEA' \n",
    "OCTfiles= glob. glob(OCTPEApath +\"/*.csv\") \n",
    "CIDpath= 'data/GPR55 Inhibitior' \n",
    "CIDfiles=glob. glob(CIDpath +\"/*.csv\") "
   ]
  },
  {
   "cell_type": "code",
   "execution_count": 113,
   "id": "5f4db7d3-a8b9-4975-bc36-2abbe79b399b",
   "metadata": {},
   "outputs": [],
   "source": [
    "#data_ins.clear() \n",
    "#conditions.clear() "
   ]
  },
  {
   "cell_type": "code",
   "execution_count": 114,
   "id": "2a26de7a-b01e-4bc7-9914-aace683c0bf0",
   "metadata": {},
   "outputs": [
    {
     "name": "stdout",
     "output_type": "stream",
     "text": [
      "d.shape: (410, 66)\n",
      "dmean shape: (1, 66)\n",
      "d.shape: (410, 59)\n",
      "dmean shape: (1, 59)\n",
      "d.shape: (410, 50)\n",
      "dmean shape: (1, 50)\n",
      "d.shape: (410, 72)\n",
      "dmean shape: (1, 72)\n"
     ]
    }
   ],
   "source": [
    "data_ins= []\n",
    "conditions = []\n",
    "for filename in DMSOfiles:\n",
    "        df = pd.read_csv(filename, index_col=0, header=None, delimiter=',')\n",
    "        d = df.values\n",
    "        print(\"d.shape:\",d.shape)\n",
    "        dmean=np.mean(d[:5,:],axis=0,keepdims=True)\n",
    "        print(\"dmean shape:\", dmean.shape)\n",
    "        d /= dmean\n",
    "        data_ins.append(d)\n",
    "        conditions.append('DMSO')"
   ]
  },
  {
   "cell_type": "code",
   "execution_count": 115,
   "id": "f3006093-a7f1-451c-9df0-796a5066996f",
   "metadata": {
    "tags": []
   },
   "outputs": [],
   "source": [
    "for filename in OCTfiles:\n",
    "    df = pd.read_csv(filename, index_col=0, header=None, delimiter=',')\n",
    "    d = df.values\n",
    "    dmean=np.mean(d[:5,:],axis=0,keepdims=True)\n",
    "    d /= dmean\n",
    "    data_ins.append(d)\n",
    "    conditions.append('OCTPEA')"
   ]
  },
  {
   "cell_type": "markdown",
   "id": "38c7d91d-89b6-4882-8265-339c2443d6e7",
   "metadata": {},
   "source": [
    "## Exercise 3 \n",
    "Now, add the CID files to the data_ins and conditions lists. "
   ]
  },
  {
   "cell_type": "code",
   "execution_count": 116,
   "id": "c8a5ee42-9bae-483a-abe0-4fc99f04aa80",
   "metadata": {},
   "outputs": [],
   "source": [
    "#Answer\n",
    "for filename in CIDfiles:\n",
    "    df = pd.read_csv(filename, index_col=0, header=None, delimiter=',')\n",
    "    d = df.values\n",
    "    dmean=np.mean(d[:5,:],axis=0,keepdims=True)\n",
    "    d /= dmean\n",
    "    data_ins.append(d)\n",
    "    conditions.append('CID')"
   ]
  },
  {
   "cell_type": "code",
   "execution_count": 117,
   "id": "54542519-9677-4778-ae66-1cd694112a70",
   "metadata": {},
   "outputs": [
    {
     "name": "stdout",
     "output_type": "stream",
     "text": [
      "[66, 59, 50, 72, 70, 28, 37, 64, 82, 24, 47, 46, 66, 30, 56, 60]\n",
      "['DMSO', 'DMSO', 'DMSO', 'DMSO', 'OCTPEA', 'OCTPEA', 'OCTPEA', 'OCTPEA', 'OCTPEA', 'OCTPEA', 'OCTPEA', 'OCTPEA', 'CID', 'CID', 'CID', 'CID']\n"
     ]
    }
   ],
   "source": [
    "cellcounts=[d.shape[1] for d in data_ins]\n",
    "print(cellcounts)\n",
    "print(conditions) "
   ]
  },
  {
   "cell_type": "code",
   "execution_count": null,
   "id": "312daa8d-a40a-404a-89a8-fae278c5220b",
   "metadata": {},
   "outputs": [],
   "source": []
  },
  {
   "cell_type": "markdown",
   "id": "12068149-ef03-47fe-83f7-153560a6d3e8",
   "metadata": {},
   "source": [
    "## Finding Peaks for Multiple Data Sets *****\n",
    "Now that we have all of our data arrays organized in a list, we can find peaks for all of trials within each condition in an organized way. \n"
   ]
  },
  {
   "cell_type": "code",
   "execution_count": 289,
   "id": "30f50bf8-ce30-477a-8721-030b359b1dfa",
   "metadata": {},
   "outputs": [],
   "source": [
    "#want a code that will do all this for each individual trial \n",
    "#and will store all the mean peak counts corresponding to that trial\n",
    "#the mistake I keep getting is that all_cells_peaks are being stored together in one list and my code is basically summing the peaks for ALL trials \n",
    "#I do not want that. \n",
    "#I only want it to sum the peaks for each individual trial and divide by each trial's cell number\n",
    "# the only problem is that each trial does not give out one peak or a certain number of peaks- it varies. could be 200 peaks for all total cells or 100. \n",
    "#how do I write a code to evade this problem and still do this for all my trials without having to repeat the same lines of code over and over?? \n",
    "#idea is to maybe write a function thatll do it for each individual array in data_ins and append the result to an empty list for each trial. \n",
    "#fold change will post peaksnorm/prepeknorm "
   ]
  },
  {
   "cell_type": "code",
   "execution_count": 313,
   "id": "9ff5e9b6-4a7b-407e-92db-7aaa9d77ff73",
   "metadata": {},
   "outputs": [],
   "source": [
    "#finds tallest peak and eliminates peak in x direction on either side of peak mpd, \n",
    "def find_prepeaks(d): \n",
    "    UV1f= 150 \n",
    "    all_cells_prepeaks=list()\n",
    "    for cell  in range(d.shape[1]):                   \n",
    "        findprepeak= detect_peaks(d[:UV1f,cell], mph=1.25, mpd=2)\n",
    "        all_cells_prepeaks.append(len(findprepeak))\n",
    "    mean_peak_count = sum(all_cells_prepeaks) / d.shape[1]\n",
    "    return mean_peak_count"
   ]
  },
  {
   "cell_type": "markdown",
   "id": "23a11ba0-2a09-414f-9862-5d62ca950333",
   "metadata": {},
   "source": [
    "## Exercise 4 \n",
    "Write a function to find the peaks after the first irradiation, UV1f, and before the second irradiation, UV2f, and call the fuction find_postpeaks. "
   ]
  },
  {
   "cell_type": "code",
   "execution_count": 314,
   "id": "3b225c38-d30a-4d53-83ee-ad2e00fb122c",
   "metadata": {},
   "outputs": [],
   "source": [
    "#Answer \n",
    "def find_postpeaks(d): \n",
    "    UV1f= 150 \n",
    "    UV2f= 300\n",
    "    all_cells_prepeaks=list()\n",
    "    for cell  in range(d.shape[1]):                   \n",
    "        findprepeak= detect_peaks(d[UV1f:UV2f,cell], mph=1.25, mpd=2)\n",
    "        all_cells_prepeaks.append(len(findprepeak))\n",
    "    mean_peak_count = sum(all_cells_prepeaks) / d.shape[1]\n",
    "    return mean_peak_count"
   ]
  },
  {
   "cell_type": "code",
   "execution_count": 316,
   "id": "2c7293d8-b29e-49fb-bdd6-17ae4bc5623e",
   "metadata": {},
   "outputs": [
    {
     "data": {
      "text/plain": [
       "([10.348484848484848, 12.64406779661017, 14.34, 12.694444444444445],\n",
       " [12.787878787878787, 14.11864406779661, 17.76, 14.958333333333334])"
      ]
     },
     "execution_count": 316,
     "metadata": {},
     "output_type": "execute_result"
    }
   ],
   "source": [
    "DMSO_prepeaks=[]\n",
    "DMSO_postpeaks=[] \n",
    "for i in data_ins[:4]: \n",
    "    b=find_prepeaks(i) \n",
    "    DMSO_prepeaks.append(b) \n",
    "    c=find_postpeaks(i) \n",
    "    DMSO_postpeaks.append(c)\n",
    "DMSO_prepeaks, DMSO_postpeaks "
   ]
  },
  {
   "cell_type": "markdown",
   "id": "44c561f4-180e-4195-9bc8-7aea978c1c0e",
   "metadata": {},
   "source": [
    "## Exercise 5 \n",
    "Now, using the two finding peaks functions, write a script that will store all of your peaks before and after irradiation in two seperate lists: peaks_before_flash and peaks_after_flash. "
   ]
  },
  {
   "cell_type": "code",
   "execution_count": 448,
   "id": "ab5d40bd-4f6f-41e3-bb02-3a6fcdf2a8f8",
   "metadata": {},
   "outputs": [],
   "source": [
    "peaks_before_flash =[]\n",
    "peaks_after_flash=[]\n",
    "for i in data_ins: \n",
    "    b=find_prepeaks(i) \n",
    "    peaks_before_flash.append(b) \n",
    "    c=find_postpeaks(i) \n",
    "    peaks_after_flash.append(c)"
   ]
  },
  {
   "cell_type": "code",
   "execution_count": null,
   "id": "1246f11a-620f-4939-aeff-00954afc01e2",
   "metadata": {},
   "outputs": [],
   "source": []
  },
  {
   "cell_type": "code",
   "execution_count": 340,
   "id": "c446fa9b-7d17-4637-b270-fa9324c13b4e",
   "metadata": {},
   "outputs": [],
   "source": []
  },
  {
   "cell_type": "code",
   "execution_count": 426,
   "id": "2c8c8a2d-3f69-4bac-8781-fe3d2066d325",
   "metadata": {},
   "outputs": [
    {
     "data": {
      "text/plain": [
       "[10.348484848484848, 12.64406779661017, 14.34, 12.694444444444445]"
      ]
     },
     "execution_count": 426,
     "metadata": {},
     "output_type": "execute_result"
    }
   ],
   "source": []
  },
  {
   "cell_type": "markdown",
   "id": "7913b972-4e77-4077-a51e-a9db6cb0774b",
   "metadata": {},
   "source": [
    "# Fold Change "
   ]
  },
  {
   "cell_type": "code",
   "execution_count": 429,
   "id": "dcee16e3-5760-4503-a2bd-91d272e828fa",
   "metadata": {},
   "outputs": [
    {
     "data": {
      "text/plain": [
       "[1.2357247437774523, 1.116621983914209, 1.2384937238493725, 1.1783369803063457]"
      ]
     },
     "execution_count": 429,
     "metadata": {},
     "output_type": "execute_result"
    }
   ],
   "source": [
    "DMSO_prepeaks=peaks_before_flash[:4]\n",
    "DMSO_postpeaks=peaks_after_flash[:4]\n",
    "DMSO_foldchanges=[]\n",
    "for i in range(len(DMSO_prepeaks)): \n",
    "    foldchange=DMSO_postpeaks[i]/DMSO_prepeaks[i]\n",
    "    DMSO_foldchanges.append(foldchange) \n",
    "DMSO_foldchanges "
   ]
  },
  {
   "cell_type": "code",
   "execution_count": 329,
   "id": "41e4af43-6f7e-482f-9369-894066ca4ae5",
   "metadata": {},
   "outputs": [],
   "source": [
    "def foldchanges(pre,post): \n",
    "    condition_foldchanges=[]\n",
    "    for i in range(len(pre)): \n",
    "        foldchange=post[i]/pre[i] \n",
    "        condition_foldchanges.append(foldchange) \n",
    "    return condition_foldchanges"
   ]
  },
  {
   "cell_type": "markdown",
   "id": "85d6b19a-7496-44d5-9b9c-6f1ec9cb7b83",
   "metadata": {},
   "source": [
    "## Exercise 5 \n",
    "Slice out the OCT and CID peaks before and after irradiation. \n",
    "OCTPEA trials in our lists are [4:12]\n",
    "CID trials in our lists are [12:16]"
   ]
  },
  {
   "cell_type": "code",
   "execution_count": 440,
   "id": "8efbcfbb-181e-476a-a1c7-5f38a803b1f2",
   "metadata": {},
   "outputs": [],
   "source": [
    "OCTPEA_prepeaks=peaks_before_flash[4:12]\n",
    "OCT_postpeaks=peaks_after_flash[4:12]\n",
    "CID_prepeaks=peaks_before_flash[12:16]\n",
    "CID_postpeaks=peaks_after_flash[12:16]"
   ]
  },
  {
   "cell_type": "code",
   "execution_count": 346,
   "id": "4e66b011-257a-4798-a0bb-147f916af042",
   "metadata": {},
   "outputs": [],
   "source": [
    "DMSO_foldchanges=foldchanges(DMSO_prepeaks,DMSO_postpeaks)\n",
    "OCTPEA_foldchanges=foldchanges(OCTPEA_prepeaks, OCTPEA_postpeaks) \n",
    "CID_foldchanges=foldchanges(CID_prepeaks, CID_postpeaks) "
   ]
  },
  {
   "cell_type": "markdown",
   "id": "dbc4dea6-8ba9-4cf6-96bc-797f36a74078",
   "metadata": {},
   "source": [
    "### Mean Fold Changes "
   ]
  },
  {
   "cell_type": "code",
   "execution_count": 458,
   "id": "b3ae60af-c278-4cc3-bb4a-010a601abdfd",
   "metadata": {},
   "outputs": [],
   "source": [
    "def meanfoldchange(foldchange_list):\n",
    "    mean_foldchange=sum(foldchange_list)/len(foldchange_list) \n",
    "    return mean_foldchange"
   ]
  },
  {
   "cell_type": "code",
   "execution_count": 461,
   "id": "c15f687e-a9d5-4837-a27c-89c6ca5e6425",
   "metadata": {},
   "outputs": [],
   "source": [
    "DMSO_meanfold=meanfoldchange(DMSO_foldchanges) \n",
    "OCTPEA_meanfold=meanfoldchange(OCTPEA_foldchanges) \n",
    "CID_meanfold=meanfoldchange(CID_foldchanges)"
   ]
  },
  {
   "cell_type": "code",
   "execution_count": 512,
   "id": "02566df2-03da-4483-bbbf-d2c0212ee60e",
   "metadata": {},
   "outputs": [],
   "source": [
    "allfolds={'DMSO' : DMSO_foldchanges,'OCTPEA' : OCTPEA_foldchanges,'CID' : CID_foldchanges}\n",
    "folds=pd.DataFrame({ key:pd.Series(value) for key, value in allfolds.items() })"
   ]
  },
  {
   "cell_type": "code",
   "execution_count": 528,
   "id": "d68ed5ff-f9c4-4369-a69f-e1588da55c5e",
   "metadata": {},
   "outputs": [
    {
     "data": {
      "text/plain": [
       "<AxesSubplot:xlabel='Condition', ylabel='Oscillation Frequency (Fold Change)'>"
      ]
     },
     "execution_count": 528,
     "metadata": {},
     "output_type": "execute_result"
    },
    {
     "data": {
      "image/png": "[encoded data removed]",
      "text/plain": [
       "<Figure size 432x288 with 1 Axes>"
      ]
     },
     "metadata": {
      "needs_background": "light"
     },
     "output_type": "display_data"
    }
   ],
   "source": [
    "b=sns.boxplot(data=folds,palette='Pastel1') \n",
    "b.set(xlabel='Condition',ylabel='Oscillation Frequency (Fold Change)')\n",
    "sns.stripplot(data=folds, palette=\"Pa\") "
   ]
  },
  {
   "cell_type": "code",
   "execution_count": null,
   "id": "6b0df91b-38ce-48fc-b148-ffb6b687ac3f",
   "metadata": {},
   "outputs": [],
   "source": [
    "data_ins= []\n",
    "conditions = []\n",
    "for filename in DMSOfiles:\n",
    "        df = pd.read_csv(filename, index_col=0, header=None, delimiter=',')\n",
    "        d = df.values\n",
    "        print(\"d.shape:\",d.shape)\n",
    "        dmean=np.mean(d[:5,:],axis=0,keepdims=True)\n",
    "        print(\"dmean shape:\", dmean.shape)\n",
    "        d /= dmean\n",
    "        data_ins.append(d)\n",
    "        conditions.append('DMSO')"
   ]
  },
  {
   "cell_type": "code",
   "execution_count": 242,
   "id": "598a2d60-ad08-449a-ba47-f0f6dc2370b9",
   "metadata": {},
   "outputs": [
    {
     "data": {
      "text/plain": [
       "[66, 59, 50, 72, 70, 28, 37, 64, 82, 24, 47, 46, 66, 30, 56, 60]"
      ]
     },
     "execution_count": 242,
     "metadata": {},
     "output_type": "execute_result"
    }
   ],
   "source": [
    "#testing my function \n",
    "b=[]\n",
    "for i in data_ins: \n",
    "    b.append(i.shape[1])\n",
    "b"
   ]
  },
  {
   "cell_type": "markdown",
   "id": "360c0183-e88a-46f7-9ef7-c04648b11647",
   "metadata": {},
   "source": []
  },
  {
   "cell_type": "code",
   "execution_count": 121,
   "id": "1cf55e7c-c723-4089-9c88-a01096304e16",
   "metadata": {},
   "outputs": [
    {
     "data": {
      "text/plain": [
       "0.16666666666666666"
      ]
     },
     "execution_count": 121,
     "metadata": {},
     "output_type": "execute_result"
    }
   ],
   "source": []
  },
  {
   "cell_type": "code",
   "execution_count": null,
   "id": "0ab13aaf-693c-4f6c-8dca-c145e59dc529",
   "metadata": {},
   "outputs": [],
   "source": []
  },
  {
   "cell_type": "code",
   "execution_count": null,
   "id": "fb923918-a279-42da-adba-94b71c67dcc8",
   "metadata": {},
   "outputs": [],
   "source": []
  },
  {
   "cell_type": "code",
   "execution_count": 442,
   "id": "53e01ca5-dd40-4817-ae7c-c839f79b38ab",
   "metadata": {},
   "outputs": [],
   "source": [
    "#Organizing all of our repeated data \n",
    "Nconditions= 3 #Number of conditions \n",
    "\n",
    "#Number of files per condition \n",
    "DMSOFileN= 4 # vehicle control repeats in separate files\n",
    "ProbeFileN= 8 #probe repeats in separate files \n",
    "CIDFileN= 4 #probe with gpr55 inhibitor repearts in separate files "
   ]
  },
  {
   "cell_type": "code",
   "execution_count": 80,
   "id": "781cf590-c202-4e72-9474-2ab7b59baf09",
   "metadata": {},
   "outputs": [],
   "source": [
    "#Setting experimental parameters to analyze and plot data\n",
    "UV1f= 150 #frame number where first irradiation occurred\n",
    "UV2f= 300 #frame number where second irradiation occurred \n",
    "UVdur= 15 #number of frames for each irradiation \n",
    "posctrlf= 400 #frame number where positive control was added \n",
    "frametime= 4 #experiment was conducted by imaging 4 sec per frame \n",
    "#convert units from frames to seconds \n",
    "UV1= UV1f*frametime-frametime \n",
    "UV2= UV2f*frametime-frametime\n",
    "UVdur= UVdur*frametime\n",
    "posctrl= posctrlf*frametime-frametime "
   ]
  },
  {
   "cell_type": "code",
   "execution_count": null,
   "id": "811b6aa0-7e2b-4756-b9ab-498d07bf83dc",
   "metadata": {},
   "outputs": [],
   "source": []
  },
  {
   "cell_type": "code",
   "execution_count": 81,
   "id": "eb2c97b1-58ad-43fb-a595-03fdbec21068",
   "metadata": {},
   "outputs": [],
   "source": []
  },
  {
   "cell_type": "code",
   "execution_count": 82,
   "id": "b1172374-5f9c-4a78-8277-8a2f33089e37",
   "metadata": {},
   "outputs": [
    {
     "name": "stdout",
     "output_type": "stream",
     "text": [
      "[WindowsPath('data/DMSO'), WindowsPath('data/GPR55 Inhibitior'), WindowsPath('data/OCTPEA'), WindowsPath('data/traces_15_131_2_CFP.csv'), WindowsPath('data/traces_15_131_2_YFP.csv')]\n"
     ]
    }
   ],
   "source": [
    "print (list(datapath.iterdir())) "
   ]
  },
  {
   "cell_type": "markdown",
   "id": "38a80807-a0b4-4fc1-a17d-8880a5f6374f",
   "metadata": {},
   "source": [
    "## Ploting Our Data\n",
    "Here instead of having a list of arrays, we have mean of all of our cell traces within each trial for every condition. "
   ]
  },
  {
   "cell_type": "code",
   "execution_count": 46,
   "id": "f4305fc1-6d14-4137-a8a0-21635da31612",
   "metadata": {},
   "outputs": [],
   "source": []
  },
  {
   "cell_type": "code",
   "execution_count": 6,
   "id": "a97abbf6-4a02-493a-8ab5-e14aa6bf8d80",
   "metadata": {},
   "outputs": [],
   "source": [
    "#want to normalize all of my data within each individual trial within each condition "
   ]
  },
  {
   "cell_type": "code",
   "execution_count": null,
   "id": "96ccf854-1771-4fc8-b1b8-514a8dc62708",
   "metadata": {},
   "outputs": [],
   "source": []
  },
  {
   "cell_type": "code",
   "execution_count": 86,
   "id": "6aa22b05-8608-4a12-8858-58f5fab8876f",
   "metadata": {},
   "outputs": [],
   "source": [
    "baseline = np.mean(df.values[:5,:], axis=0)\n",
    "baseline.shape\n",
    "n=df.values/baseline \n"
   ]
  },
  {
   "cell_type": "code",
   "execution_count": 87,
   "id": "ed5f9436-a9fd-4e98-9dc4-4529bc6d92bd",
   "metadata": {},
   "outputs": [
    {
     "data": {
      "text/plain": [
       "(410, 247)"
      ]
     },
     "execution_count": 87,
     "metadata": {},
     "output_type": "execute_result"
    }
   ],
   "source": [
    "c=np.concatenate(consolidated_norm, axis=1)\n",
    "c.shape"
   ]
  },
  {
   "cell_type": "code",
   "execution_count": null,
   "id": "503495c4-1058-4a00-a993-7fe462536221",
   "metadata": {},
   "outputs": [],
   "source": [
    "DMSOpath = 'data/DMSO/' # use your path\n",
    "DMSOfiles = glob.glob(DMSOpath + \"/*.csv\")\n",
    "OCTPEApath= 'data/OCTPEA' \n",
    "OCTfiles= glob. glob(OCTPEApath +\"/*.csv\") \n",
    "CIDpath= 'data/GPR55 Inhibitior' \n",
    "CIDfiles=glob. glob(Ihibpath +\"/*.csv\") "
   ]
  },
  {
   "cell_type": "code",
   "execution_count": 351,
   "id": "042387ef-586b-42cc-8234-948fafc1cc3d",
   "metadata": {},
   "outputs": [],
   "source": [
    "def meanofalltrials(filelist):\n",
    "    consolidated_norm= list()\n",
    "    for filename in filelist:\n",
    "        df = pd.read_csv(filename, index_col=0, header=None, delimiter=',')\n",
    "        baseline = np.mean(df.values[:5,:], axis=0)\n",
    "        baseline.shape\n",
    "        n=df.values/baseline \n",
    "        consolidated_norm.append(n)\n",
    "    concat_cells=np.concatenate(consolidated_norm, axis=1)\n",
    "    meanovertime=np.mean(concat_cells, axis=1) \n",
    "    return meanovertime"
   ]
  },
  {
   "cell_type": "code",
   "execution_count": 445,
   "id": "74395178-8da7-429e-bb66-516735b8c016",
   "metadata": {},
   "outputs": [],
   "source": [
    "UV1f= 150 #frame number where first irradiation occurred\n",
    "UV2f= 300 #frame number where second irradiation occurred \n",
    "UVdur= 15 #number of frames for each irradiation \n",
    "kcl= 400 #frame number where positive control was added \n",
    "frametime= 4 #experiment was conducted by imaging 4 sec per frame \n",
    "#convert units from frames to seconds \n",
    "UV1= UV1f*frametime-frametime \n",
    "UV2= UV2f*frametime-frametime\n",
    "UVdur= UVdur*frametime\n",
    "kcl_time=kcl*frametime-frametime"
   ]
  },
  {
   "cell_type": "code",
   "execution_count": 446,
   "id": "05ce9dc6-a624-48d5-be30-7f30f4d212fb",
   "metadata": {},
   "outputs": [
    {
     "data": {
      "text/plain": [
       "<matplotlib.legend.Legend at 0x194efe11be0>"
      ]
     },
     "execution_count": 446,
     "metadata": {},
     "output_type": "execute_result"
    },
    {
     "data": {
      "image/png": "[encoded data removed]",
      "text/plain": [
       "<Figure size 432x288 with 1 Axes>"
      ]
     },
     "metadata": {
      "needs_background": "light"
     },
     "output_type": "display_data"
    }
   ],
   "source": [
    "octpea=meanofalltrials(OCTfiles)  \n",
    "frametime=4 \n",
    "times= np.arange(octpea.shape[0])*frametime\n",
    "fig, ax = plt.subplots()\n",
    "plt.plot(times, octpea, label=\"OCTPEA\")\n",
    "ax.add_patch(Rectangle((UV1,min(octpea)),UVdur, max(octpea),color=\"violet\"))\n",
    "ax.add_patch(Rectangle((UV2,min(octpea)),UVdur, max(octpea),color=\"violet\"))\n",
    "plt.axvline(kcl_time, color =\"red\", linestyle='--', label=\"KCl\", linewidth=1.25)\n",
    "ax.set_xlabel(\"Time (s)\") \n",
    "ax.set_ylabel(\"RGECO $(F/F_{min})$\") \n",
    "plt.legend()"
   ]
  },
  {
   "cell_type": "code",
   "execution_count": 90,
   "id": "6cd09800-f813-4741-be92-abbaa6b54812",
   "metadata": {},
   "outputs": [],
   "source": [
    "#ctrl "
   ]
  },
  {
   "cell_type": "code",
   "execution_count": 354,
   "id": "a46e888d-1f90-48a3-b65c-41302ddf4f5f",
   "metadata": {},
   "outputs": [
    {
     "data": {
      "text/plain": [
       "[<matplotlib.lines.Line2D at 0x194eba1f880>]"
      ]
     },
     "execution_count": 354,
     "metadata": {},
     "output_type": "execute_result"
    },
    {
     "data": {
      "image/png": "[encoded data removed]",
      "text/plain": [
       "<Figure size 432x288 with 1 Axes>"
      ]
     },
     "metadata": {
      "needs_background": "light"
     },
     "output_type": "display_data"
    }
   ],
   "source": [
    "octpea=meanofalltrials(OCTfiles)  \n",
    "frametime=4 \n",
    "times= np.arange(octpea.shape[0])*frametime\n",
    "plt.plot(times, octpea)"
   ]
  },
  {
   "cell_type": "code",
   "execution_count": 359,
   "id": "a59357e1-78c1-4753-bd6a-be2a242f95ad",
   "metadata": {},
   "outputs": [
    {
     "data": {
      "text/plain": [
       "<matplotlib.legend.Legend at 0x194ea45bee0>"
      ]
     },
     "execution_count": 359,
     "metadata": {},
     "output_type": "execute_result"
    },
    {
     "data": {
      "image/png": "[encoded data removed]",
      "text/plain": [
       "<Figure size 432x288 with 1 Axes>"
      ]
     },
     "metadata": {
      "needs_background": "light"
     },
     "output_type": "display_data"
    }
   ],
   "source": [
    "fig, ax = plt.subplots()\n",
    "ax.plot(times, ctrl, color='black', label='Control')\n",
    "ax.plot(times, octpea, color='red', label='OCTPEA')\n",
    "plt.legend()"
   ]
  },
  {
   "cell_type": "code",
   "execution_count": 93,
   "id": "32fc38bd-11a6-425a-ac82-245f33ce36fb",
   "metadata": {},
   "outputs": [],
   "source": [
    "#finding peaks before and after UV Stimulation \n",
    "#Need to know number of conditions\n",
    "#array to hold number of cells per trial.. number of cells per trial will be # of items in axis 1 \n",
    "#array to hold normalized traces per trial \n",
    "#we have varying oscillatory ca peaks \n",
    "#going to use function detect_peaks similar to matlab find_peaks \n",
    "#mph is mean peak height and mpd is mean peak distance \n"
   ]
  },
  {
   "cell_type": "code",
   "execution_count": 387,
   "id": "3a2ce8fd-2d5d-46da-b67e-5b9a7d0ffaf3",
   "metadata": {},
   "outputs": [],
   "source": []
  },
  {
   "cell_type": "code",
   "execution_count": 368,
   "id": "05cd43e1-3ab5-4bab-9460-591178ac2d8f",
   "metadata": {},
   "outputs": [
    {
     "data": {
      "text/plain": [
       "5.354556557425622"
      ]
     },
     "execution_count": 368,
     "metadata": {},
     "output_type": "execute_result"
    }
   ],
   "source": []
  },
  {
   "cell_type": "code",
   "execution_count": 421,
   "id": "6022aa75-1bca-40c4-97e0-1954e51bb059",
   "metadata": {},
   "outputs": [
    {
     "data": {
      "text/plain": [
       "<matplotlib.legend.Legend at 0x194efc34d60>"
      ]
     },
     "execution_count": 421,
     "metadata": {},
     "output_type": "execute_result"
    },
    {
     "data": {
      "image/png": "[encoded data removed]",
      "text/plain": [
       "<Figure size 432x288 with 1 Axes>"
      ]
     },
     "metadata": {
      "needs_background": "light"
     },
     "output_type": "display_data"
    }
   ],
   "source": [
    "octpea=meanofalltrials(OCTfiles)  \n",
    "frametime=4 \n",
    "times= np.arange(octpea.shape[0])*frametime\n",
    "fig, ax = plt.subplots()\n",
    "plt.plot(times, octpea, label=\"OCTPEA\")\n",
    "ax.add_patch(Rectangle((UV1,min(octpea)),UVdur, max(octpea),color=\"violet\"))\n",
    "ax.add_patch(Rectangle((UV2,min(octpea)),UVdur, max(octpea),color=\"violet\"))\n",
    "plt.axvline(kcl_time, color =\"red\", linestyle='--', label=\"KCl\", linewidth=1.25)\n",
    "ax.set_xlabel(\"Time (s)\") \n",
    "ax.set_ylabel(\"RGECO $(F/F_{min})$\") \n",
    "plt.legend()"
   ]
  },
  {
   "cell_type": "code",
   "execution_count": 20,
   "id": "9b823432-155d-40ff-a29b-27184ba86adb",
   "metadata": {},
   "outputs": [
    {
     "data": {
      "text/plain": [
       "['data/DMSO\\\\DMSO1.csv',\n",
       " 'data/DMSO\\\\DMSO2.csv',\n",
       " 'data/DMSO\\\\DMSO3.csv',\n",
       " 'data/DMSO\\\\DMSO4.csv']"
      ]
     },
     "execution_count": 20,
     "metadata": {},
     "output_type": "execute_result"
    }
   ],
   "source": [
    "DMSOfiles = glob.glob(DMSOpath + \"/*.csv\")\n"
   ]
  },
  {
   "cell_type": "code",
   "execution_count": 35,
   "id": "bd3eefd2-e53b-43cb-8f9b-55631df4e2de",
   "metadata": {},
   "outputs": [
    {
     "ename": "SyntaxError",
     "evalue": "cannot assign to operator (Temp/ipykernel_22624/3484746988.py, line 6)",
     "output_type": "error",
     "traceback": [
      "\u001b[1;36m  File \u001b[1;32m\"C:\\Users\\Sarahi\\AppData\\Local\\Temp/ipykernel_22624/3484746988.py\"\u001b[1;36m, line \u001b[1;32m6\u001b[0m\n\u001b[1;33m    \"group\" + str(fileN)= df\u001b[0m\n\u001b[1;37m    ^\u001b[0m\n\u001b[1;31mSyntaxError\u001b[0m\u001b[1;31m:\u001b[0m cannot assign to operator\n"
     ]
    }
   ],
   "source": [
    "DMSOfiles = glob.glob(DMSOpath + \"/*.csv\")\n",
    "DMSOFileN= 4 \n",
    "condition = []\n",
    "for i, DMSOfile filename in enumerate(DMSOfiles):\n",
    "        df = pd.read_csv(filename, index_col=0, header=None, delimiter=',')\n",
    "        str(condition)= df\n",
    "        condition += 1\n",
    "        print(condition.shape) \n",
    "        \n",
    " "
   ]
  },
  {
   "cell_type": "code",
   "execution_count": 48,
   "id": "a8507938-c8a4-4e77-b2a0-6fd16685d319",
   "metadata": {},
   "outputs": [
    {
     "name": "stdout",
     "output_type": "stream",
     "text": [
      "d.shape: (410, 66)\n",
      "dmean shape: (1, 66)\n",
      "d.shape: (410, 59)\n",
      "dmean shape: (1, 59)\n",
      "d.shape: (410, 50)\n",
      "dmean shape: (1, 50)\n",
      "d.shape: (410, 72)\n",
      "dmean shape: (1, 72)\n"
     ]
    }
   ],
   "source": [
    "DMSOfiles = glob.glob(DMSOpath + \"/*.csv\")\n",
    "\n",
    "DMSOFileN= 4 \n",
    "data_in = []\n",
    "condition = []\n",
    "for filename in DMSOfiles:\n",
    "        df = pd.read_csv(filename, index_col=0, header=None, delimiter=',')\n",
    "        d = df.values\n",
    "        print(\"d.shape:\",d.shape)\n",
    "        dmean=np.mean(d[:5,:],axis=0,keepdims=True)\n",
    "        print(\"dmean shape:\", dmean.shape)\n",
    "        d /= dmean\n",
    "        data_in.append(d)\n",
    "        condition.append('DMSO')\n",
    "#for d in data_in:\n",
    "#    print(d.shape)\n",
    "import matplotlib.pyplot as plt\n",
    "#plt.plot(data_in[1]);\n"
   ]
  },
  {
   "cell_type": "code",
   "execution_count": 52,
   "id": "1db23ac9-df6d-417a-9a79-dfbeecb04823",
   "metadata": {},
   "outputs": [
    {
     "data": {
      "text/plain": [
       "array([1.14242941, 0.44419167, 1.15494149, 1.14085845, 0.73119485,\n",
       "       0.92450861, 1.05091013, 0.66412211, 1.00255557, 0.89724401,\n",
       "       1.03014506, 1.25300246, 3.00079177, 0.96491124, 0.78273525,\n",
       "       1.33155975, 1.17808835, 1.75918205, 1.81461087, 0.96663241,\n",
       "       0.89348238, 1.08118074, 0.46954016, 0.92653733, 0.7887004 ,\n",
       "       1.10767179, 0.93242499, 2.0512895 , 1.00662095, 0.9552648 ,\n",
       "       0.661507  , 1.11954194, 0.81553522, 0.87238925, 0.30978487,\n",
       "       1.12443407, 0.87998102, 1.0971207 , 1.01225475, 2.19085475,\n",
       "       0.98490091, 0.72402348, 1.16216252, 0.91686861, 0.93533111,\n",
       "       0.83369058, 1.1801721 , 0.42082881, 1.2621242 , 0.65714702,\n",
       "       0.35732827, 0.86495793, 0.87582951, 0.70012313, 1.04760587,\n",
       "       1.03498353, 1.03553345, 2.3411392 , 1.04079342, 1.13827921,\n",
       "       0.967504  , 0.91854741, 1.18946955, 0.89099779, 1.634629  ,\n",
       "       0.97024108, 1.05874696, 1.54397356, 0.96016634, 0.92325283,\n",
       "       1.08109307, 1.        ])"
      ]
     },
     "execution_count": 52,
     "metadata": {},
     "output_type": "execute_result"
    }
   ],
   "source": [
    "d[0]"
   ]
  },
  {
   "cell_type": "code",
   "execution_count": 55,
   "id": "137a40f4-7e87-4fc8-a933-552276ef5628",
   "metadata": {},
   "outputs": [
    {
     "name": "stdout",
     "output_type": "stream",
     "text": [
      "d.shape: (410, 70)\n",
      "dmean shape: (1, 70)\n",
      "d.shape: (410, 28)\n",
      "dmean shape: (1, 28)\n",
      "d.shape: (410, 37)\n",
      "dmean shape: (1, 37)\n",
      "d.shape: (410, 64)\n",
      "dmean shape: (1, 64)\n",
      "d.shape: (410, 82)\n",
      "dmean shape: (1, 82)\n",
      "d.shape: (410, 24)\n",
      "dmean shape: (1, 24)\n",
      "d.shape: (410, 47)\n",
      "dmean shape: (1, 47)\n",
      "d.shape: (410, 46)\n",
      "dmean shape: (1, 46)\n"
     ]
    }
   ],
   "source": [
    "OCTPEAfiles = glob.glob('data/OCTPEA' + \"/*.csv\")\n",
    "for filename in OCTPEAfiles:\n",
    "        df = pd.read_csv(filename, index_col=0, header=None, delimiter=',')\n",
    "        d = df.values\n",
    "        print(\"d.shape:\",d.shape)\n",
    "        dmean=np.mean(d[:5,:],axis=0,keepdims=True)\n",
    "        print(\"dmean shape:\", dmean.shape)\n",
    "        d /= dmean\n",
    "        data_in.append(d)\n",
    "        condition.append('OCTPEA')\n",
    "#for d in data_in:\n",
    "#    print(d.shape)\n",
    "import matplotlib.pyplot as plt\n",
    "#plt.plot(data_in[1]);\n"
   ]
  },
  {
   "cell_type": "code",
   "execution_count": 60,
   "id": "b308b3a1-f64b-4f47-ae21-1961cdea6414",
   "metadata": {},
   "outputs": [
    {
     "name": "stdout",
     "output_type": "stream",
     "text": [
      "[66, 59, 50, 72, 70, 28, 37, 64, 82, 24, 47, 46]\n",
      "['DMSO', 'DMSO', 'DMSO', 'DMSO', 'OCTPEA', 'OCTPEA', 'OCTPEA', 'OCTPEA', 'OCTPEA', 'OCTPEA', 'OCTPEA', 'OCTPEA']\n"
     ]
    }
   ],
   "source": [
    "cellcounts=[d.shape[1] for d in data_in]\n",
    "print(cellcounts)\n",
    "print(condition)"
   ]
  },
  {
   "cell_type": "markdown",
   "id": "7f7807ed-4137-45c6-930e-7a83ea8f7501",
   "metadata": {},
   "source": [
    "# section A"
   ]
  },
  {
   "cell_type": "markdown",
   "id": "16e8e0da-3f2e-44be-b41d-d977a96abd2b",
   "metadata": {},
   "source": [
    "## Exercise - do something\n",
    "\n",
    "enter code to "
   ]
  },
  {
   "cell_type": "markdown",
   "id": "6a9df28c-cde1-4920-ac79-803d690fdd61",
   "metadata": {},
   "source": [
    "### Exercise - do something\n",
    "\n",
    "<img src=\"images/photo.jpg\">\n",
    "\n",
    "* item 1\n",
    "* item 2\n",
    "\n",
    "make filename \"XXX_base.ipynb\"  enter code to "
   ]
  },
  {
   "cell_type": "code",
   "execution_count": null,
   "id": "68ed031a-ecf4-4360-a661-cfb1548ec48a",
   "metadata": {},
   "outputs": [],
   "source": [
    "# Answer\n",
    "a = 3\n"
   ]
  },
  {
   "cell_type": "code",
   "execution_count": null,
   "id": "d71c468b-57fb-4e7d-a3e1-52288a64d312",
   "metadata": {},
   "outputs": [],
   "source": [
    "mean_peaks_before =[]\n",
    "mean_peaks_after []\n",
    "for d in data_in:\n",
    "    a=count_peaks_before_flash(d) / number of colimns in d\n",
    "    b=count_peaks_after(d)/number of columns\n",
    "    mean_peaks_before.append(a)\n",
    "    mean_peaks_after.append(b)\n",
    "    "
   ]
  },
  {
   "cell_type": "code",
   "execution_count": 20,
   "id": "8986226f-1836-4313-a23d-dd87d9b809c8",
   "metadata": {},
   "outputs": [
    {
     "data": {
      "text/plain": [
       "42"
      ]
     },
     "execution_count": 20,
     "metadata": {},
     "output_type": "execute_result"
    }
   ],
   "source": [
    "#want to find peaks before and after UV irradiation \n",
    "UV1f= 150 #frame number where first irradiation occurred\n",
    "UV2f= 300\n",
    "ypeakthreshold= 1.25 #peak must be at least this value greater in y than signal before / after, mph \n",
    "xpeakthreshold= 2 #finds tallest peak and eliminates peak in x direction on either side of peak mpd\n",
    "for i in np.arange(data_in.shape[1]): # for i in the total number of cells in concatinated normalized controls \n",
    "    findprepeak= detect_peaks(ctrl_trials[UV1f-1], mph=ypeakthreshold, mpd=xpeakthreshold) #find peaks withindataset and generate an array\n",
    "prepeaksnorm=len(findprepeak)/ctrl_trials.shape[1]\n",
    "    #findpostpeak=len(detect_peaks(ctrl_trials[UV1f:UV2f], mph=ypeakthreshold, mpd=xpeakthreshold)) \n",
    "len(findprepeak)"
   ]
  },
  {
   "cell_type": "code",
   "execution_count": 34,
   "id": "674cf6fd-d5ca-4394-bdf9-cc74c604f836",
   "metadata": {},
   "outputs": [
    {
     "ename": "NameError",
     "evalue": "name 'condition4' is not defined",
     "output_type": "error",
     "traceback": [
      "\u001b[1;31m---------------------------------------------------------------------------\u001b[0m",
      "\u001b[1;31mNameError\u001b[0m                                 Traceback (most recent call last)",
      "\u001b[1;32m~\\AppData\\Local\\Temp/ipykernel_22624/607367952.py\u001b[0m in \u001b[0;36m<module>\u001b[1;34m\u001b[0m\n\u001b[1;32m----> 1\u001b[1;33m \u001b[0mcondition4\u001b[0m\u001b[1;33m\u001b[0m\u001b[1;33m\u001b[0m\u001b[0m\n\u001b[0m",
      "\u001b[1;31mNameError\u001b[0m: name 'condition4' is not defined"
     ]
    }
   ],
   "source": [
    "condition4"
   ]
  },
  {
   "cell_type": "code",
   "execution_count": 17,
   "id": "add9378f-a739-4ef2-9a03-28aa815b7419",
   "metadata": {},
   "outputs": [
    {
     "ename": "KeyError",
     "evalue": "0",
     "output_type": "error",
     "traceback": [
      "\u001b[1;31m---------------------------------------------------------------------------\u001b[0m",
      "\u001b[1;31mKeyError\u001b[0m                                  Traceback (most recent call last)",
      "\u001b[1;32m~\\anaconda3\\lib\\site-packages\\pandas\\core\\indexes\\base.py\u001b[0m in \u001b[0;36mget_loc\u001b[1;34m(self, key, method, tolerance)\u001b[0m\n\u001b[0;32m   3360\u001b[0m             \u001b[1;32mtry\u001b[0m\u001b[1;33m:\u001b[0m\u001b[1;33m\u001b[0m\u001b[1;33m\u001b[0m\u001b[0m\n\u001b[1;32m-> 3361\u001b[1;33m                 \u001b[1;32mreturn\u001b[0m \u001b[0mself\u001b[0m\u001b[1;33m.\u001b[0m\u001b[0m_engine\u001b[0m\u001b[1;33m.\u001b[0m\u001b[0mget_loc\u001b[0m\u001b[1;33m(\u001b[0m\u001b[0mcasted_key\u001b[0m\u001b[1;33m)\u001b[0m\u001b[1;33m\u001b[0m\u001b[1;33m\u001b[0m\u001b[0m\n\u001b[0m\u001b[0;32m   3362\u001b[0m             \u001b[1;32mexcept\u001b[0m \u001b[0mKeyError\u001b[0m \u001b[1;32mas\u001b[0m \u001b[0merr\u001b[0m\u001b[1;33m:\u001b[0m\u001b[1;33m\u001b[0m\u001b[1;33m\u001b[0m\u001b[0m\n",
      "\u001b[1;32m~\\anaconda3\\lib\\site-packages\\pandas\\_libs\\index.pyx\u001b[0m in \u001b[0;36mpandas._libs.index.IndexEngine.get_loc\u001b[1;34m()\u001b[0m\n",
      "\u001b[1;32m~\\anaconda3\\lib\\site-packages\\pandas\\_libs\\index.pyx\u001b[0m in \u001b[0;36mpandas._libs.index.IndexEngine.get_loc\u001b[1;34m()\u001b[0m\n",
      "\u001b[1;32mpandas\\_libs\\hashtable_class_helper.pxi\u001b[0m in \u001b[0;36mpandas._libs.hashtable.Int64HashTable.get_item\u001b[1;34m()\u001b[0m\n",
      "\u001b[1;32mpandas\\_libs\\hashtable_class_helper.pxi\u001b[0m in \u001b[0;36mpandas._libs.hashtable.Int64HashTable.get_item\u001b[1;34m()\u001b[0m\n",
      "\u001b[1;31mKeyError\u001b[0m: 0",
      "\nThe above exception was the direct cause of the following exception:\n",
      "\u001b[1;31mKeyError\u001b[0m                                  Traceback (most recent call last)",
      "\u001b[1;32m~\\AppData\\Local\\Temp/ipykernel_22624/1813988674.py\u001b[0m in \u001b[0;36m<module>\u001b[1;34m\u001b[0m\n\u001b[0;32m      8\u001b[0m         \u001b[0mcondition\u001b[0m\u001b[1;33m=\u001b[0m \u001b[0mdf\u001b[0m\u001b[1;33m[\u001b[0m\u001b[0mi\u001b[0m\u001b[1;33m]\u001b[0m\u001b[1;33m\u001b[0m\u001b[1;33m\u001b[0m\u001b[0m\n\u001b[0;32m      9\u001b[0m     \u001b[1;32mreturn\u001b[0m \u001b[0mcondition\u001b[0m\u001b[1;33m\u001b[0m\u001b[1;33m\u001b[0m\u001b[0m\n\u001b[1;32m---> 10\u001b[1;33m \u001b[0mctrl_trials\u001b[0m\u001b[1;33m=\u001b[0m\u001b[0mtrials\u001b[0m\u001b[1;33m(\u001b[0m\u001b[0mDMSOfiles\u001b[0m\u001b[1;33m,\u001b[0m\u001b[0mDMSO\u001b[0m\u001b[1;33m)\u001b[0m\u001b[1;33m\u001b[0m\u001b[1;33m\u001b[0m\u001b[0m\n\u001b[0m\u001b[0;32m     11\u001b[0m \u001b[0mctrl_trials\u001b[0m\u001b[1;33m\u001b[0m\u001b[1;33m\u001b[0m\u001b[0m\n",
      "\u001b[1;32m~\\AppData\\Local\\Temp/ipykernel_22624/1813988674.py\u001b[0m in \u001b[0;36mtrials\u001b[1;34m(filelist, condition)\u001b[0m\n\u001b[0;32m      6\u001b[0m     \u001b[1;32mfor\u001b[0m \u001b[0mi\u001b[0m\u001b[1;33m,\u001b[0m \u001b[0mfilename\u001b[0m \u001b[1;32min\u001b[0m \u001b[0menumerate\u001b[0m\u001b[1;33m(\u001b[0m\u001b[0mfilelist\u001b[0m\u001b[1;33m)\u001b[0m\u001b[1;33m:\u001b[0m\u001b[1;33m\u001b[0m\u001b[1;33m\u001b[0m\u001b[0m\n\u001b[0;32m      7\u001b[0m         \u001b[0mdf\u001b[0m \u001b[1;33m=\u001b[0m \u001b[0mpd\u001b[0m\u001b[1;33m.\u001b[0m\u001b[0mread_csv\u001b[0m\u001b[1;33m(\u001b[0m\u001b[0mfilename\u001b[0m\u001b[1;33m,\u001b[0m \u001b[0mindex_col\u001b[0m\u001b[1;33m=\u001b[0m\u001b[1;36m0\u001b[0m\u001b[1;33m,\u001b[0m \u001b[0mheader\u001b[0m\u001b[1;33m=\u001b[0m\u001b[1;32mNone\u001b[0m\u001b[1;33m,\u001b[0m \u001b[0mdelimiter\u001b[0m\u001b[1;33m=\u001b[0m\u001b[1;34m','\u001b[0m\u001b[1;33m)\u001b[0m\u001b[1;33m\u001b[0m\u001b[1;33m\u001b[0m\u001b[0m\n\u001b[1;32m----> 8\u001b[1;33m         \u001b[0mcondition\u001b[0m\u001b[1;33m=\u001b[0m \u001b[0mdf\u001b[0m\u001b[1;33m[\u001b[0m\u001b[0mi\u001b[0m\u001b[1;33m]\u001b[0m\u001b[1;33m\u001b[0m\u001b[1;33m\u001b[0m\u001b[0m\n\u001b[0m\u001b[0;32m      9\u001b[0m     \u001b[1;32mreturn\u001b[0m \u001b[0mcondition\u001b[0m\u001b[1;33m\u001b[0m\u001b[1;33m\u001b[0m\u001b[0m\n\u001b[0;32m     10\u001b[0m \u001b[0mctrl_trials\u001b[0m\u001b[1;33m=\u001b[0m\u001b[0mtrials\u001b[0m\u001b[1;33m(\u001b[0m\u001b[0mDMSOfiles\u001b[0m\u001b[1;33m,\u001b[0m\u001b[0mDMSO\u001b[0m\u001b[1;33m)\u001b[0m\u001b[1;33m\u001b[0m\u001b[1;33m\u001b[0m\u001b[0m\n",
      "\u001b[1;32m~\\anaconda3\\lib\\site-packages\\pandas\\core\\frame.py\u001b[0m in \u001b[0;36m__getitem__\u001b[1;34m(self, key)\u001b[0m\n\u001b[0;32m   3456\u001b[0m             \u001b[1;32mif\u001b[0m \u001b[0mself\u001b[0m\u001b[1;33m.\u001b[0m\u001b[0mcolumns\u001b[0m\u001b[1;33m.\u001b[0m\u001b[0mnlevels\u001b[0m \u001b[1;33m>\u001b[0m \u001b[1;36m1\u001b[0m\u001b[1;33m:\u001b[0m\u001b[1;33m\u001b[0m\u001b[1;33m\u001b[0m\u001b[0m\n\u001b[0;32m   3457\u001b[0m                 \u001b[1;32mreturn\u001b[0m \u001b[0mself\u001b[0m\u001b[1;33m.\u001b[0m\u001b[0m_getitem_multilevel\u001b[0m\u001b[1;33m(\u001b[0m\u001b[0mkey\u001b[0m\u001b[1;33m)\u001b[0m\u001b[1;33m\u001b[0m\u001b[1;33m\u001b[0m\u001b[0m\n\u001b[1;32m-> 3458\u001b[1;33m             \u001b[0mindexer\u001b[0m \u001b[1;33m=\u001b[0m \u001b[0mself\u001b[0m\u001b[1;33m.\u001b[0m\u001b[0mcolumns\u001b[0m\u001b[1;33m.\u001b[0m\u001b[0mget_loc\u001b[0m\u001b[1;33m(\u001b[0m\u001b[0mkey\u001b[0m\u001b[1;33m)\u001b[0m\u001b[1;33m\u001b[0m\u001b[1;33m\u001b[0m\u001b[0m\n\u001b[0m\u001b[0;32m   3459\u001b[0m             \u001b[1;32mif\u001b[0m \u001b[0mis_integer\u001b[0m\u001b[1;33m(\u001b[0m\u001b[0mindexer\u001b[0m\u001b[1;33m)\u001b[0m\u001b[1;33m:\u001b[0m\u001b[1;33m\u001b[0m\u001b[1;33m\u001b[0m\u001b[0m\n\u001b[0;32m   3460\u001b[0m                 \u001b[0mindexer\u001b[0m \u001b[1;33m=\u001b[0m \u001b[1;33m[\u001b[0m\u001b[0mindexer\u001b[0m\u001b[1;33m]\u001b[0m\u001b[1;33m\u001b[0m\u001b[1;33m\u001b[0m\u001b[0m\n",
      "\u001b[1;32m~\\anaconda3\\lib\\site-packages\\pandas\\core\\indexes\\base.py\u001b[0m in \u001b[0;36mget_loc\u001b[1;34m(self, key, method, tolerance)\u001b[0m\n\u001b[0;32m   3361\u001b[0m                 \u001b[1;32mreturn\u001b[0m \u001b[0mself\u001b[0m\u001b[1;33m.\u001b[0m\u001b[0m_engine\u001b[0m\u001b[1;33m.\u001b[0m\u001b[0mget_loc\u001b[0m\u001b[1;33m(\u001b[0m\u001b[0mcasted_key\u001b[0m\u001b[1;33m)\u001b[0m\u001b[1;33m\u001b[0m\u001b[1;33m\u001b[0m\u001b[0m\n\u001b[0;32m   3362\u001b[0m             \u001b[1;32mexcept\u001b[0m \u001b[0mKeyError\u001b[0m \u001b[1;32mas\u001b[0m \u001b[0merr\u001b[0m\u001b[1;33m:\u001b[0m\u001b[1;33m\u001b[0m\u001b[1;33m\u001b[0m\u001b[0m\n\u001b[1;32m-> 3363\u001b[1;33m                 \u001b[1;32mraise\u001b[0m \u001b[0mKeyError\u001b[0m\u001b[1;33m(\u001b[0m\u001b[0mkey\u001b[0m\u001b[1;33m)\u001b[0m \u001b[1;32mfrom\u001b[0m \u001b[0merr\u001b[0m\u001b[1;33m\u001b[0m\u001b[1;33m\u001b[0m\u001b[0m\n\u001b[0m\u001b[0;32m   3364\u001b[0m \u001b[1;33m\u001b[0m\u001b[0m\n\u001b[0;32m   3365\u001b[0m         \u001b[1;32mif\u001b[0m \u001b[0mis_scalar\u001b[0m\u001b[1;33m(\u001b[0m\u001b[0mkey\u001b[0m\u001b[1;33m)\u001b[0m \u001b[1;32mand\u001b[0m \u001b[0misna\u001b[0m\u001b[1;33m(\u001b[0m\u001b[0mkey\u001b[0m\u001b[1;33m)\u001b[0m \u001b[1;32mand\u001b[0m \u001b[1;32mnot\u001b[0m \u001b[0mself\u001b[0m\u001b[1;33m.\u001b[0m\u001b[0mhasnans\u001b[0m\u001b[1;33m:\u001b[0m\u001b[1;33m\u001b[0m\u001b[1;33m\u001b[0m\u001b[0m\n",
      "\u001b[1;31mKeyError\u001b[0m: 0"
     ]
    }
   ],
   "source": [
    "#need a function to just return thr concatinated cells \n",
    "DMSOfiles = glob.glob(DMSOpath + \"/*.csv\")\n",
    "DMSOFileN= 4 \n",
    "def trials(filelist,condition,):\n",
    "    consolidated_norm= list()\n",
    "    condition= \n",
    "    for i, filename in enumerate(filelist):\n",
    "        df = pd.read_csv(filename, index_col=0, header=None, delimiter=',')\n",
    "        condition= df[i]\n",
    "    return condition\n",
    "ctrl_trials=trials(DMSOfiles,DMSO) \n",
    "ctrl_trials"
   ]
  },
  {
   "cell_type": "code",
   "execution_count": 11,
   "id": "8856a99e-abdb-48be-92a9-1c31c76c0d84",
   "metadata": {},
   "outputs": [],
   "source": [
    "UV1f= 150 #frame number where first irradiation occurred\n",
    "UV2f= 300\n",
    "pre_peaks = ctrl_trials[UV1f-1]"
   ]
  },
  {
   "cell_type": "code",
   "execution_count": 20,
   "id": "dd501a09-6a5a-403f-8001-1b0408df8916",
   "metadata": {},
   "outputs": [
    {
     "data": {
      "text/plain": [
       "42"
      ]
     },
     "execution_count": 20,
     "metadata": {},
     "output_type": "execute_result"
    }
   ],
   "source": [
    "#want to find peaks before and after UV irradiation \n",
    "UV1f= 150 #frame number where first irradiation occurred\n",
    "UV2f= 300\n",
    "ypeakthreshold= 1.25 #peak must be at least this value greater in y than signal before / after, mph \n",
    "xpeakthreshold= 2 #finds tallest peak and eliminates peak in x direction on either side of peak mpd\n",
    "for i in np.arange(ctrl_trials.shape[1]): # for i in the total number of cells in concatinated normalized controls \n",
    "    findprepeak= detect_peaks(ctrl_trials[UV1f-1], mph=ypeakthreshold, mpd=xpeakthreshold) #find peaks withindataset and generate an array\n",
    "prepeaksnorm=len(findprepeak)/ctrl_trials.shape[1]\n",
    "    #findpostpeak=len(detect_peaks(ctrl_trials[UV1f:UV2f], mph=ypeakthreshold, mpd=xpeakthreshold)) \n",
    "len(findprepeak)"
   ]
  },
  {
   "cell_type": "code",
   "execution_count": 21,
   "id": "216039be-320d-4c2d-a0f3-e35a9aa94a3e",
   "metadata": {},
   "outputs": [
    {
     "data": {
      "text/plain": [
       "42"
      ]
     },
     "execution_count": 21,
     "metadata": {},
     "output_type": "execute_result"
    }
   ],
   "source": [
    "\n",
    "y =pre_peaks[findprepeak].sum()\n",
    "len(findprepeak)"
   ]
  },
  {
   "cell_type": "code",
   "execution_count": 137,
   "id": "f4c3cd54-f598-46bb-999f-131bfefffea8",
   "metadata": {},
   "outputs": [
    {
     "data": {
      "text/plain": [
       "247"
      ]
     },
     "execution_count": 137,
     "metadata": {},
     "output_type": "execute_result"
    }
   ],
   "source": [
    "ctrl_trials.shape[1]"
   ]
  },
  {
   "cell_type": "code",
   "execution_count": 155,
   "id": "ce47f9c3-e962-4019-8f6f-a2ff983c8e31",
   "metadata": {},
   "outputs": [
    {
     "data": {
      "text/plain": [
       "(150, 247)"
      ]
     },
     "execution_count": 155,
     "metadata": {},
     "output_type": "execute_result"
    }
   ],
   "source": [
    "ctrl_trials[UV1f:UV2f].shape"
   ]
  },
  {
   "cell_type": "code",
   "execution_count": 154,
   "id": "c94106a4-ec24-4d50-970e-6013c2315dd6",
   "metadata": {},
   "outputs": [
    {
     "data": {
      "text/plain": [
       "(149, 247)"
      ]
     },
     "execution_count": 154,
     "metadata": {},
     "output_type": "execute_result"
    }
   ],
   "source": [
    "ctrl_trials[:UV1f-1].shape"
   ]
  },
  {
   "cell_type": "code",
   "execution_count": null,
   "id": "f2a675d5-e9e8-49b8-9992-64f825da5769",
   "metadata": {},
   "outputs": [],
   "source": [
    "cfp = CFP_3UV_df.values\n",
    "yfp = YFP_3UV_df.values\n",
    "\n",
    "fret=cfp/yfp \n",
    "cellmax= fret.max(axis=0)\n",
    "normfret=fret/cellmax\n",
    "meannormfret=normfret.mean(axis=1)\n",
    "plt.plot(meannormfret.T)"
   ]
  }
 ],
 "metadata": {
  "kernelspec": {
   "display_name": "Python 3 (ipykernel)",
   "language": "python",
   "name": "python3"
  },
  "language_info": {
   "codemirror_mode": {
    "name": "ipython",
    "version": 3
   },
   "file_extension": ".py",
   "mimetype": "text/x-python",
   "name": "python",
   "nbconvert_exporter": "python",
   "pygments_lexer": "ipython3",
   "version": "3.9.7"
  }
 },
 "nbformat": 4,
 "nbformat_minor": 5
}
