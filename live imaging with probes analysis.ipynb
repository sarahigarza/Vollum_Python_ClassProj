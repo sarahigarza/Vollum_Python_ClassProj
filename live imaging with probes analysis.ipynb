{
 "cells": [
  {
   "cell_type": "code",
   "execution_count": 2,
   "id": "50201237-3ce0-483a-8a77-b8b55d6a9fff",
   "metadata": {},
   "outputs": [],
   "source": [
    "import pandas as pd \n",
    "import numpy as np \n",
    "import matplotlib.pyplot as plt \n",
    "%matplotlib inline\n",
    "import pathlib as pl \n",
    "import scipy.stats as ss\n",
    "from detecta import detect_peaks\n",
    "import os.path #helps accessing file path \n",
    "import glob #library for locating file paths with text searching"
   ]
  },
  {
   "cell_type": "markdown",
   "id": "aac1951d-27ad-412b-9062-e25a772886e4",
   "metadata": {},
   "source": [
    "##"
   ]
  },
  {
   "cell_type": "code",
   "execution_count": 3,
   "id": "2470ca2a-2aaf-45fb-8141-626bee9c2fb7",
   "metadata": {},
   "outputs": [],
   "source": [
    "datapath=pl.Path(\"data\")"
   ]
  },
  {
   "cell_type": "code",
   "execution_count": 4,
   "id": "df7fa461-26ee-4a63-9f38-352ac779800a",
   "metadata": {},
   "outputs": [
    {
     "name": "stdout",
     "output_type": "stream",
     "text": [
      "[WindowsPath('data/DMSO'), WindowsPath('data/GPR55 Inhibitior'), WindowsPath('data/OCTPEA'), WindowsPath('data/traces_15_131_2_CFP.csv'), WindowsPath('data/traces_15_131_2_YFP.csv')]\n"
     ]
    }
   ],
   "source": [
    "print (list(datapath.iterdir()))"
   ]
  },
  {
   "cell_type": "code",
   "execution_count": 5,
   "id": "54542519-9677-4778-ae66-1cd694112a70",
   "metadata": {},
   "outputs": [],
   "source": [
    "CFP_3UV_df= pd.read_csv('data/traces_15_131_2_CFP.csv', header=None, index_col=0) \n",
    "YFP_3UV_df=pd.read_csv('data/traces_15_131_2_YFP.csv', header=None, index_col=0)"
   ]
  },
  {
   "cell_type": "code",
   "execution_count": 6,
   "id": "0ab13aaf-693c-4f6c-8dca-c145e59dc529",
   "metadata": {},
   "outputs": [],
   "source": [
    "cfp = CFP_3UV_df.values\n",
    "yfp = YFP_3UV_df.values\n",
    "\n",
    "fret=cfp/yfp \n",
    "cellmax= fret.max(axis=0)\n",
    "normfret=fret/cellmax\n",
    "meannormfret=normfret.mean(axis=1)"
   ]
  },
  {
   "cell_type": "code",
   "execution_count": 78,
   "id": "fb923918-a279-42da-adba-94b71c67dcc8",
   "metadata": {},
   "outputs": [
    {
     "data": {
      "text/plain": [
       "[<matplotlib.lines.Line2D at 0x23d9743d340>]"
      ]
     },
     "execution_count": 78,
     "metadata": {},
     "output_type": "execute_result"
    },
    {
     "data": {
      "image/png": "[encoded data removed]",
      "text/plain": [
       "<Figure size 432x288 with 1 Axes>"
      ]
     },
     "metadata": {
      "needs_background": "light"
     },
     "output_type": "display_data"
    }
   ],
   "source": [
    "plt.plot(meannormfret.T)"
   ]
  },
  {
   "cell_type": "code",
   "execution_count": 79,
   "id": "53e01ca5-dd40-4817-ae7c-c839f79b38ab",
   "metadata": {},
   "outputs": [],
   "source": [
    "#Organizing all of our repeated data \n",
    "Nconditions= 3 #Number of conditions \n",
    "\n",
    "#Number of files per condition \n",
    "DMSOFileN= 4 # vehicle control repeats in separate files\n",
    "ProbeFileN= 8 #probe repeats in separate files \n",
    "CIDFileN= 4 #probe with gpr55 inhibitor repearts in separate files \n",
    "\n",
    "#file name to later save figures \n",
    "titlename= 'Probe' "
   ]
  },
  {
   "cell_type": "code",
   "execution_count": 80,
   "id": "781cf590-c202-4e72-9474-2ab7b59baf09",
   "metadata": {},
   "outputs": [],
   "source": [
    "#Setting experimental parameters to analyze and plot data\n",
    "UV1f= 150 #frame number where first irradiation occurred\n",
    "UV2f= 300 #frame number where second irradiation occurred \n",
    "UVdur= 15 #number of frames for each irradiation \n",
    "posctrlf= 400 #frame number where positive control was added \n",
    "frametime= 4 #experiment was conducted by imaging 4 sec per frame \n",
    "#convert units from frames to seconds \n",
    "UV1= UV1f*frametime-frametime \n",
    "UV2= UV2f*frametime-frametime\n",
    "UVdur= UVdur*frametime\n",
    "posctrl= posctrlf*frametime-frametime "
   ]
  },
  {
   "cell_type": "code",
   "execution_count": null,
   "id": "811b6aa0-7e2b-4756-b9ab-498d07bf83dc",
   "metadata": {},
   "outputs": [],
   "source": []
  },
  {
   "cell_type": "code",
   "execution_count": 81,
   "id": "eb2c97b1-58ad-43fb-a595-03fdbec21068",
   "metadata": {},
   "outputs": [],
   "source": [
    "#Goal here is to remove the time stamp from files, save time for later and combine multiple trials for each condition into one folder \n",
    "#Among each condition, there are different number of repeats so lets combine the number of files per condition into a single array\n",
    "fileN = [DMSOFileN, ProbeFileN, CIDFileN]\n",
    "maxfile= np.max(fileN) #becuase each condition has diff number of trials, we want to normalize to max number of trials \n",
    "conditionN= np.zeros(3)   \n",
    "#alldata= np.full([maxfile,3], None)"
   ]
  },
  {
   "cell_type": "code",
   "execution_count": 82,
   "id": "b1172374-5f9c-4a78-8277-8a2f33089e37",
   "metadata": {},
   "outputs": [
    {
     "name": "stdout",
     "output_type": "stream",
     "text": [
      "[WindowsPath('data/DMSO'), WindowsPath('data/GPR55 Inhibitior'), WindowsPath('data/OCTPEA'), WindowsPath('data/traces_15_131_2_CFP.csv'), WindowsPath('data/traces_15_131_2_YFP.csv')]\n"
     ]
    }
   ],
   "source": [
    "print (list(datapath.iterdir())) "
   ]
  },
  {
   "cell_type": "code",
   "execution_count": 8,
   "id": "f4305fc1-6d14-4137-a8a0-21635da31612",
   "metadata": {},
   "outputs": [],
   "source": [
    "DMSOpath = 'data/DMSO/' # use your path\n",
    "DMSOfiles = glob.glob(DMSOpath + \"/*.csv\")\n",
    "OCTPEApath= 'data/OCTPEA' \n",
    "OCTfiles= glob. glob(OCTPEApath +\"/*.csv\") \n",
    "Ihibpath= 'data/GPR55 Inhibitior' \n",
    "Ihibfiles=glob. glob(Ihibpath +\"/*.csv\") \n",
    "DMSO = []\n",
    "OCTPEA= []\n",
    "Ihibpath=[]\n",
    "consolidated_norm= list()\n",
    "#alldatas=[]\n",
    "for filename in DMSOfiles:\n",
    "    df = pd.read_csv(filename, index_col=0, header=None, delimiter=',')\n",
    "    baseline = np.mean(df.values[:5,:], axis=0)\n",
    "    baseline.shape\n",
    "    n=df.values/baseline \n",
    "    consolidated_norm.append(n)\n",
    "concat_cells=np.concatenate(consolidated_norm, axis=1)\n",
    "meanovertime=np.mean(concat_cells, axis=1) \n",
    "     #alldatas.append(DMSO) \n",
    "for filename in OCTfiles: \n",
    "    df1 = pd.read_csv(filename, index_col=0, header=None, delimiter=',')\n",
    "    OCTPEA.append(df1) \n",
    "    #alldatas.append(OCTPEA)\n",
    "for filename in Ihibfiles: \n",
    "    df2= pd.read_csv(filename, index_col=0, header=None, delimiter=',')\n",
    "    Ihibpath.append(df2) \n",
    "    #alldatas.append(Ihibpath)\n",
    "#alldatass = pd.concat(li, axis=0, ignore_index=True)\n",
    "#alldata= np.array(alldatas, dtype= object)"
   ]
  },
  {
   "cell_type": "code",
   "execution_count": 6,
   "id": "a97abbf6-4a02-493a-8ab5-e14aa6bf8d80",
   "metadata": {},
   "outputs": [],
   "source": [
    "#want to normalize all of my data within each individual trial within each condition "
   ]
  },
  {
   "cell_type": "code",
   "execution_count": 7,
   "id": "96ccf854-1771-4fc8-b1b8-514a8dc62708",
   "metadata": {},
   "outputs": [
    {
     "data": {
      "text/plain": [
       "[<matplotlib.lines.Line2D at 0x20acabed820>]"
      ]
     },
     "execution_count": 7,
     "metadata": {},
     "output_type": "execute_result"
    },
    {
     "data": {
      "image/png": "[encoded data removed]",
      "text/plain": [
       "<Figure size 432x288 with 1 Axes>"
      ]
     },
     "metadata": {
      "needs_background": "light"
     },
     "output_type": "display_data"
    }
   ],
   "source": [
    "frametime=4 \n",
    "times= np.arange(meanovertime.shape[0])*frametime\n",
    "plt.plot(times, meanovertime)"
   ]
  },
  {
   "cell_type": "code",
   "execution_count": 86,
   "id": "6aa22b05-8608-4a12-8858-58f5fab8876f",
   "metadata": {},
   "outputs": [],
   "source": [
    "baseline = np.mean(df.values[:5,:], axis=0)\n",
    "baseline.shape\n",
    "n=df.values/baseline \n"
   ]
  },
  {
   "cell_type": "code",
   "execution_count": 87,
   "id": "ed5f9436-a9fd-4e98-9dc4-4529bc6d92bd",
   "metadata": {},
   "outputs": [
    {
     "data": {
      "text/plain": [
       "(410, 247)"
      ]
     },
     "execution_count": 87,
     "metadata": {},
     "output_type": "execute_result"
    }
   ],
   "source": [
    "c=np.concatenate(consolidated_norm, axis=1)\n",
    "c.shape"
   ]
  },
  {
   "cell_type": "code",
   "execution_count": 22,
   "id": "042387ef-586b-42cc-8234-948fafc1cc3d",
   "metadata": {},
   "outputs": [],
   "source": [
    "def meanofalltrials(filelist):\n",
    "    consolidated_norm= list()\n",
    "    for filename in filelist:\n",
    "        df = pd.read_csv(filename, index_col=0, header=None, delimiter=',')\n",
    "        baseline = np.mean(df.values[:5,:], axis=0)\n",
    "        baseline.shape\n",
    "        n=df.values/baseline \n",
    "        consolidated_norm.append(n)\n",
    "    concat_cells=np.concatenate(consolidated_norm, axis=1)\n",
    "    meanovertime=np.mean(concat_cells, axis=1) \n",
    "    return meanovertime"
   ]
  },
  {
   "cell_type": "code",
   "execution_count": 24,
   "id": "05ce9dc6-a624-48d5-be30-7f30f4d212fb",
   "metadata": {},
   "outputs": [
    {
     "data": {
      "text/plain": [
       "[<matplotlib.lines.Line2D at 0x21f488f4070>]"
      ]
     },
     "execution_count": 24,
     "metadata": {},
     "output_type": "execute_result"
    },
    {
     "data": {
      "image/png": "[encoded data removed]",
      "text/plain": [
       "<Figure size 432x288 with 1 Axes>"
      ]
     },
     "metadata": {
      "needs_background": "light"
     },
     "output_type": "display_data"
    }
   ],
   "source": [
    "ctrl=meanofalltrials(DMSOfiles) \n",
    "frametime=4 \n",
    "times= np.arange(ctrl.shape[0])*frametime\n",
    "plt.plot(times, ctrl)"
   ]
  },
  {
   "cell_type": "code",
   "execution_count": 90,
   "id": "6cd09800-f813-4741-be92-abbaa6b54812",
   "metadata": {},
   "outputs": [],
   "source": [
    "#ctrl "
   ]
  },
  {
   "cell_type": "code",
   "execution_count": 91,
   "id": "a46e888d-1f90-48a3-b65c-41302ddf4f5f",
   "metadata": {},
   "outputs": [
    {
     "data": {
      "text/plain": [
       "[<matplotlib.lines.Line2D at 0x23d97580dc0>]"
      ]
     },
     "execution_count": 91,
     "metadata": {},
     "output_type": "execute_result"
    },
    {
     "data": {
      "image/png": "[encoded data removed]",
      "text/plain": [
       "<Figure size 432x288 with 1 Axes>"
      ]
     },
     "metadata": {
      "needs_background": "light"
     },
     "output_type": "display_data"
    }
   ],
   "source": [
    "p=meanofalltrials(OCTfiles)  \n",
    "frametime=4 \n",
    "times= np.arange(p.shape[0])*frametime\n",
    "plt.plot(times, p)"
   ]
  },
  {
   "cell_type": "code",
   "execution_count": 92,
   "id": "a59357e1-78c1-4753-bd6a-be2a242f95ad",
   "metadata": {},
   "outputs": [
    {
     "data": {
      "text/plain": [
       "[<matplotlib.lines.Line2D at 0x23d975f61f0>]"
      ]
     },
     "execution_count": 92,
     "metadata": {},
     "output_type": "execute_result"
    },
    {
     "data": {
      "image/png": "[encoded data removed]",
      "text/plain": [
       "<Figure size 432x288 with 1 Axes>"
      ]
     },
     "metadata": {
      "needs_background": "light"
     },
     "output_type": "display_data"
    }
   ],
   "source": [
    "fig, ax = plt.subplots()\n",
    "ax.plot(times, ctrl, color='black')\n",
    "ax.plot(times, p, color='red')"
   ]
  },
  {
   "cell_type": "code",
   "execution_count": 93,
   "id": "32fc38bd-11a6-425a-ac82-245f33ce36fb",
   "metadata": {},
   "outputs": [],
   "source": [
    "#finding peaks before and after UV Stimulation \n",
    "#Need to know number of conditions\n",
    "#array to hold number of cells per trial.. number of cells per trial will be # of items in axis 1 \n",
    "#array to hold normalized traces per trial \n",
    "#we have varying oscillatory ca peaks \n",
    "#going to use function detect_peaks similar to matlab find_peaks \n",
    "#mph is mean peak height and mpd is mean peak distance "
   ]
  },
  {
   "cell_type": "code",
   "execution_count": 20,
   "id": "9b823432-155d-40ff-a29b-27184ba86adb",
   "metadata": {},
   "outputs": [
    {
     "data": {
      "text/plain": [
       "['data/DMSO\\\\DMSO1.csv',\n",
       " 'data/DMSO\\\\DMSO2.csv',\n",
       " 'data/DMSO\\\\DMSO3.csv',\n",
       " 'data/DMSO\\\\DMSO4.csv']"
      ]
     },
     "execution_count": 20,
     "metadata": {},
     "output_type": "execute_result"
    }
   ],
   "source": [
    "DMSOfiles = glob.glob(DMSOpath + \"/*.csv\")\n"
   ]
  },
  {
   "cell_type": "code",
   "execution_count": 35,
   "id": "bd3eefd2-e53b-43cb-8f9b-55631df4e2de",
   "metadata": {},
   "outputs": [
    {
     "ename": "SyntaxError",
     "evalue": "cannot assign to operator (Temp/ipykernel_22624/3484746988.py, line 6)",
     "output_type": "error",
     "traceback": [
      "\u001b[1;36m  File \u001b[1;32m\"C:\\Users\\Sarahi\\AppData\\Local\\Temp/ipykernel_22624/3484746988.py\"\u001b[1;36m, line \u001b[1;32m6\u001b[0m\n\u001b[1;33m    \"group\" + str(fileN)= df\u001b[0m\n\u001b[1;37m    ^\u001b[0m\n\u001b[1;31mSyntaxError\u001b[0m\u001b[1;31m:\u001b[0m cannot assign to operator\n"
     ]
    }
   ],
   "source": [
    "DMSOfiles = glob.glob(DMSOpath + \"/*.csv\")\n",
    "DMSOFileN= 4 \n",
    "condition = []\n",
    "for i, DMSOfile filename in enumerate(DMSOfiles):\n",
    "        df = pd.read_csv(filename, index_col=0, header=None, delimiter=',')\n",
    "        str(condition)= df\n",
    "        condition += 1\n",
    "        print(condition.shape) \n",
    "        \n",
    " "
   ]
  },
  {
   "cell_type": "code",
   "execution_count": 54,
   "id": "a8507938-c8a4-4e77-b2a0-6fd16685d319",
   "metadata": {},
   "outputs": [
    {
     "name": "stdout",
     "output_type": "stream",
     "text": [
      "d.shape: (410, 66)\n",
      "dmean shape: (1, 66)\n",
      "d.shape: (410, 59)\n",
      "dmean shape: (1, 59)\n",
      "d.shape: (410, 50)\n",
      "dmean shape: (1, 50)\n",
      "d.shape: (410, 72)\n",
      "dmean shape: (1, 72)\n"
     ]
    }
   ],
   "source": [
    "DMSOfiles = glob.glob(DMSOpath + \"/*.csv\")\n",
    "\n",
    "DMSOFileN= 4 \n",
    "data_in = []\n",
    "condition = []\n",
    "for filename in DMSOfiles:\n",
    "        df = pd.read_csv(filename, index_col=0, header=None, delimiter=',')\n",
    "        d = df.values\n",
    "        print(\"d.shape:\",d.shape)\n",
    "        dmean=np.mean(d[:5,:],axis=0,keepdims=True)\n",
    "        print(\"dmean shape:\", dmean.shape)\n",
    "        d /= dmean\n",
    "        data_in.append(d)\n",
    "        condition.append('DMSO')\n",
    "#for d in data_in:\n",
    "#    print(d.shape)\n",
    "import matplotlib.pyplot as plt\n",
    "#plt.plot(data_in[1]);\n"
   ]
  },
  {
   "cell_type": "code",
   "execution_count": 55,
   "id": "137a40f4-7e87-4fc8-a933-552276ef5628",
   "metadata": {},
   "outputs": [
    {
     "name": "stdout",
     "output_type": "stream",
     "text": [
      "d.shape: (410, 70)\n",
      "dmean shape: (1, 70)\n",
      "d.shape: (410, 28)\n",
      "dmean shape: (1, 28)\n",
      "d.shape: (410, 37)\n",
      "dmean shape: (1, 37)\n",
      "d.shape: (410, 64)\n",
      "dmean shape: (1, 64)\n",
      "d.shape: (410, 82)\n",
      "dmean shape: (1, 82)\n",
      "d.shape: (410, 24)\n",
      "dmean shape: (1, 24)\n",
      "d.shape: (410, 47)\n",
      "dmean shape: (1, 47)\n",
      "d.shape: (410, 46)\n",
      "dmean shape: (1, 46)\n"
     ]
    }
   ],
   "source": [
    "OCTPEAfiles = glob.glob('data/OCTPEA' + \"/*.csv\")\n",
    "for filename in OCTPEAfiles:\n",
    "        df = pd.read_csv(filename, index_col=0, header=None, delimiter=',')\n",
    "        d = df.values\n",
    "        print(\"d.shape:\",d.shape)\n",
    "        dmean=np.mean(d[:5,:],axis=0,keepdims=True)\n",
    "        print(\"dmean shape:\", dmean.shape)\n",
    "        d /= dmean\n",
    "        data_in.append(d)\n",
    "        condition.append('OCTPEA')\n",
    "#for d in data_in:\n",
    "#    print(d.shape)\n",
    "import matplotlib.pyplot as plt\n",
    "#plt.plot(data_in[1]);\n"
   ]
  },
  {
   "cell_type": "code",
   "execution_count": 60,
   "id": "b308b3a1-f64b-4f47-ae21-1961cdea6414",
   "metadata": {},
   "outputs": [
    {
     "name": "stdout",
     "output_type": "stream",
     "text": [
      "[66, 59, 50, 72, 70, 28, 37, 64, 82, 24, 47, 46]\n",
      "['DMSO', 'DMSO', 'DMSO', 'DMSO', 'OCTPEA', 'OCTPEA', 'OCTPEA', 'OCTPEA', 'OCTPEA', 'OCTPEA', 'OCTPEA', 'OCTPEA']\n"
     ]
    }
   ],
   "source": [
    "cellcounts=[d.shape[1] for d in data_in]\n",
    "print(cellcounts)\n",
    "print(condition)"
   ]
  },
  {
   "cell_type": "markdown",
   "id": "7f7807ed-4137-45c6-930e-7a83ea8f7501",
   "metadata": {},
   "source": [
    "# section A"
   ]
  },
  {
   "cell_type": "markdown",
   "id": "16e8e0da-3f2e-44be-b41d-d977a96abd2b",
   "metadata": {},
   "source": [
    "## Exercise - do something\n",
    "\n",
    "enter code to "
   ]
  },
  {
   "cell_type": "markdown",
   "id": "6a9df28c-cde1-4920-ac79-803d690fdd61",
   "metadata": {},
   "source": [
    "### Exercise - do something\n",
    "\n",
    "<img src=\"images/photo.jpg\">\n",
    "\n",
    "* item 1\n",
    "* item 2\n",
    "\n",
    "make filename \"XXX_base.ipynb\"  enter code to "
   ]
  },
  {
   "cell_type": "code",
   "execution_count": null,
   "id": "68ed031a-ecf4-4360-a661-cfb1548ec48a",
   "metadata": {},
   "outputs": [],
   "source": [
    "# Answer\n",
    "a = 3\n"
   ]
  },
  {
   "cell_type": "code",
   "execution_count": null,
   "id": "d71c468b-57fb-4e7d-a3e1-52288a64d312",
   "metadata": {},
   "outputs": [],
   "source": [
    "mean_peaks_before =[]\n",
    "mean_peaks_after []\n",
    "for d in data_in:\n",
    "    a=count_peaks_before_flash(d) / number of colimns in d\n",
    "    b=count_peaks_after(d)/number of columns\n",
    "    mean_peaks_before.append(a)\n",
    "    mean_peaks_after.append(b)\n",
    "    "
   ]
  },
  {
   "cell_type": "code",
   "execution_count": 20,
   "id": "8986226f-1836-4313-a23d-dd87d9b809c8",
   "metadata": {},
   "outputs": [
    {
     "data": {
      "text/plain": [
       "42"
      ]
     },
     "execution_count": 20,
     "metadata": {},
     "output_type": "execute_result"
    }
   ],
   "source": [
    "#want to find peaks before and after UV irradiation \n",
    "UV1f= 150 #frame number where first irradiation occurred\n",
    "UV2f= 300\n",
    "ypeakthreshold= 1.25 #peak must be at least this value greater in y than signal before / after, mph \n",
    "xpeakthreshold= 2 #finds tallest peak and eliminates peak in x direction on either side of peak mpd\n",
    "for i in np.arange(data_in.shape[1]): # for i in the total number of cells in concatinated normalized controls \n",
    "    findprepeak= detect_peaks(ctrl_trials[UV1f-1], mph=ypeakthreshold, mpd=xpeakthreshold) #find peaks withindataset and generate an array\n",
    "prepeaksnorm=len(findprepeak)/ctrl_trials.shape[1]\n",
    "    #findpostpeak=len(detect_peaks(ctrl_trials[UV1f:UV2f], mph=ypeakthreshold, mpd=xpeakthreshold)) \n",
    "len(findprepeak)"
   ]
  },
  {
   "cell_type": "code",
   "execution_count": 34,
   "id": "674cf6fd-d5ca-4394-bdf9-cc74c604f836",
   "metadata": {},
   "outputs": [
    {
     "ename": "NameError",
     "evalue": "name 'condition4' is not defined",
     "output_type": "error",
     "traceback": [
      "\u001b[1;31m---------------------------------------------------------------------------\u001b[0m",
      "\u001b[1;31mNameError\u001b[0m                                 Traceback (most recent call last)",
      "\u001b[1;32m~\\AppData\\Local\\Temp/ipykernel_22624/607367952.py\u001b[0m in \u001b[0;36m<module>\u001b[1;34m\u001b[0m\n\u001b[1;32m----> 1\u001b[1;33m \u001b[0mcondition4\u001b[0m\u001b[1;33m\u001b[0m\u001b[1;33m\u001b[0m\u001b[0m\n\u001b[0m",
      "\u001b[1;31mNameError\u001b[0m: name 'condition4' is not defined"
     ]
    }
   ],
   "source": [
    "condition4"
   ]
  },
  {
   "cell_type": "code",
   "execution_count": 17,
   "id": "add9378f-a739-4ef2-9a03-28aa815b7419",
   "metadata": {},
   "outputs": [
    {
     "ename": "KeyError",
     "evalue": "0",
     "output_type": "error",
     "traceback": [
      "\u001b[1;31m---------------------------------------------------------------------------\u001b[0m",
      "\u001b[1;31mKeyError\u001b[0m                                  Traceback (most recent call last)",
      "\u001b[1;32m~\\anaconda3\\lib\\site-packages\\pandas\\core\\indexes\\base.py\u001b[0m in \u001b[0;36mget_loc\u001b[1;34m(self, key, method, tolerance)\u001b[0m\n\u001b[0;32m   3360\u001b[0m             \u001b[1;32mtry\u001b[0m\u001b[1;33m:\u001b[0m\u001b[1;33m\u001b[0m\u001b[1;33m\u001b[0m\u001b[0m\n\u001b[1;32m-> 3361\u001b[1;33m                 \u001b[1;32mreturn\u001b[0m \u001b[0mself\u001b[0m\u001b[1;33m.\u001b[0m\u001b[0m_engine\u001b[0m\u001b[1;33m.\u001b[0m\u001b[0mget_loc\u001b[0m\u001b[1;33m(\u001b[0m\u001b[0mcasted_key\u001b[0m\u001b[1;33m)\u001b[0m\u001b[1;33m\u001b[0m\u001b[1;33m\u001b[0m\u001b[0m\n\u001b[0m\u001b[0;32m   3362\u001b[0m             \u001b[1;32mexcept\u001b[0m \u001b[0mKeyError\u001b[0m \u001b[1;32mas\u001b[0m \u001b[0merr\u001b[0m\u001b[1;33m:\u001b[0m\u001b[1;33m\u001b[0m\u001b[1;33m\u001b[0m\u001b[0m\n",
      "\u001b[1;32m~\\anaconda3\\lib\\site-packages\\pandas\\_libs\\index.pyx\u001b[0m in \u001b[0;36mpandas._libs.index.IndexEngine.get_loc\u001b[1;34m()\u001b[0m\n",
      "\u001b[1;32m~\\anaconda3\\lib\\site-packages\\pandas\\_libs\\index.pyx\u001b[0m in \u001b[0;36mpandas._libs.index.IndexEngine.get_loc\u001b[1;34m()\u001b[0m\n",
      "\u001b[1;32mpandas\\_libs\\hashtable_class_helper.pxi\u001b[0m in \u001b[0;36mpandas._libs.hashtable.Int64HashTable.get_item\u001b[1;34m()\u001b[0m\n",
      "\u001b[1;32mpandas\\_libs\\hashtable_class_helper.pxi\u001b[0m in \u001b[0;36mpandas._libs.hashtable.Int64HashTable.get_item\u001b[1;34m()\u001b[0m\n",
      "\u001b[1;31mKeyError\u001b[0m: 0",
      "\nThe above exception was the direct cause of the following exception:\n",
      "\u001b[1;31mKeyError\u001b[0m                                  Traceback (most recent call last)",
      "\u001b[1;32m~\\AppData\\Local\\Temp/ipykernel_22624/1813988674.py\u001b[0m in \u001b[0;36m<module>\u001b[1;34m\u001b[0m\n\u001b[0;32m      8\u001b[0m         \u001b[0mcondition\u001b[0m\u001b[1;33m=\u001b[0m \u001b[0mdf\u001b[0m\u001b[1;33m[\u001b[0m\u001b[0mi\u001b[0m\u001b[1;33m]\u001b[0m\u001b[1;33m\u001b[0m\u001b[1;33m\u001b[0m\u001b[0m\n\u001b[0;32m      9\u001b[0m     \u001b[1;32mreturn\u001b[0m \u001b[0mcondition\u001b[0m\u001b[1;33m\u001b[0m\u001b[1;33m\u001b[0m\u001b[0m\n\u001b[1;32m---> 10\u001b[1;33m \u001b[0mctrl_trials\u001b[0m\u001b[1;33m=\u001b[0m\u001b[0mtrials\u001b[0m\u001b[1;33m(\u001b[0m\u001b[0mDMSOfiles\u001b[0m\u001b[1;33m,\u001b[0m\u001b[0mDMSO\u001b[0m\u001b[1;33m)\u001b[0m\u001b[1;33m\u001b[0m\u001b[1;33m\u001b[0m\u001b[0m\n\u001b[0m\u001b[0;32m     11\u001b[0m \u001b[0mctrl_trials\u001b[0m\u001b[1;33m\u001b[0m\u001b[1;33m\u001b[0m\u001b[0m\n",
      "\u001b[1;32m~\\AppData\\Local\\Temp/ipykernel_22624/1813988674.py\u001b[0m in \u001b[0;36mtrials\u001b[1;34m(filelist, condition)\u001b[0m\n\u001b[0;32m      6\u001b[0m     \u001b[1;32mfor\u001b[0m \u001b[0mi\u001b[0m\u001b[1;33m,\u001b[0m \u001b[0mfilename\u001b[0m \u001b[1;32min\u001b[0m \u001b[0menumerate\u001b[0m\u001b[1;33m(\u001b[0m\u001b[0mfilelist\u001b[0m\u001b[1;33m)\u001b[0m\u001b[1;33m:\u001b[0m\u001b[1;33m\u001b[0m\u001b[1;33m\u001b[0m\u001b[0m\n\u001b[0;32m      7\u001b[0m         \u001b[0mdf\u001b[0m \u001b[1;33m=\u001b[0m \u001b[0mpd\u001b[0m\u001b[1;33m.\u001b[0m\u001b[0mread_csv\u001b[0m\u001b[1;33m(\u001b[0m\u001b[0mfilename\u001b[0m\u001b[1;33m,\u001b[0m \u001b[0mindex_col\u001b[0m\u001b[1;33m=\u001b[0m\u001b[1;36m0\u001b[0m\u001b[1;33m,\u001b[0m \u001b[0mheader\u001b[0m\u001b[1;33m=\u001b[0m\u001b[1;32mNone\u001b[0m\u001b[1;33m,\u001b[0m \u001b[0mdelimiter\u001b[0m\u001b[1;33m=\u001b[0m\u001b[1;34m','\u001b[0m\u001b[1;33m)\u001b[0m\u001b[1;33m\u001b[0m\u001b[1;33m\u001b[0m\u001b[0m\n\u001b[1;32m----> 8\u001b[1;33m         \u001b[0mcondition\u001b[0m\u001b[1;33m=\u001b[0m \u001b[0mdf\u001b[0m\u001b[1;33m[\u001b[0m\u001b[0mi\u001b[0m\u001b[1;33m]\u001b[0m\u001b[1;33m\u001b[0m\u001b[1;33m\u001b[0m\u001b[0m\n\u001b[0m\u001b[0;32m      9\u001b[0m     \u001b[1;32mreturn\u001b[0m \u001b[0mcondition\u001b[0m\u001b[1;33m\u001b[0m\u001b[1;33m\u001b[0m\u001b[0m\n\u001b[0;32m     10\u001b[0m \u001b[0mctrl_trials\u001b[0m\u001b[1;33m=\u001b[0m\u001b[0mtrials\u001b[0m\u001b[1;33m(\u001b[0m\u001b[0mDMSOfiles\u001b[0m\u001b[1;33m,\u001b[0m\u001b[0mDMSO\u001b[0m\u001b[1;33m)\u001b[0m\u001b[1;33m\u001b[0m\u001b[1;33m\u001b[0m\u001b[0m\n",
      "\u001b[1;32m~\\anaconda3\\lib\\site-packages\\pandas\\core\\frame.py\u001b[0m in \u001b[0;36m__getitem__\u001b[1;34m(self, key)\u001b[0m\n\u001b[0;32m   3456\u001b[0m             \u001b[1;32mif\u001b[0m \u001b[0mself\u001b[0m\u001b[1;33m.\u001b[0m\u001b[0mcolumns\u001b[0m\u001b[1;33m.\u001b[0m\u001b[0mnlevels\u001b[0m \u001b[1;33m>\u001b[0m \u001b[1;36m1\u001b[0m\u001b[1;33m:\u001b[0m\u001b[1;33m\u001b[0m\u001b[1;33m\u001b[0m\u001b[0m\n\u001b[0;32m   3457\u001b[0m                 \u001b[1;32mreturn\u001b[0m \u001b[0mself\u001b[0m\u001b[1;33m.\u001b[0m\u001b[0m_getitem_multilevel\u001b[0m\u001b[1;33m(\u001b[0m\u001b[0mkey\u001b[0m\u001b[1;33m)\u001b[0m\u001b[1;33m\u001b[0m\u001b[1;33m\u001b[0m\u001b[0m\n\u001b[1;32m-> 3458\u001b[1;33m             \u001b[0mindexer\u001b[0m \u001b[1;33m=\u001b[0m \u001b[0mself\u001b[0m\u001b[1;33m.\u001b[0m\u001b[0mcolumns\u001b[0m\u001b[1;33m.\u001b[0m\u001b[0mget_loc\u001b[0m\u001b[1;33m(\u001b[0m\u001b[0mkey\u001b[0m\u001b[1;33m)\u001b[0m\u001b[1;33m\u001b[0m\u001b[1;33m\u001b[0m\u001b[0m\n\u001b[0m\u001b[0;32m   3459\u001b[0m             \u001b[1;32mif\u001b[0m \u001b[0mis_integer\u001b[0m\u001b[1;33m(\u001b[0m\u001b[0mindexer\u001b[0m\u001b[1;33m)\u001b[0m\u001b[1;33m:\u001b[0m\u001b[1;33m\u001b[0m\u001b[1;33m\u001b[0m\u001b[0m\n\u001b[0;32m   3460\u001b[0m                 \u001b[0mindexer\u001b[0m \u001b[1;33m=\u001b[0m \u001b[1;33m[\u001b[0m\u001b[0mindexer\u001b[0m\u001b[1;33m]\u001b[0m\u001b[1;33m\u001b[0m\u001b[1;33m\u001b[0m\u001b[0m\n",
      "\u001b[1;32m~\\anaconda3\\lib\\site-packages\\pandas\\core\\indexes\\base.py\u001b[0m in \u001b[0;36mget_loc\u001b[1;34m(self, key, method, tolerance)\u001b[0m\n\u001b[0;32m   3361\u001b[0m                 \u001b[1;32mreturn\u001b[0m \u001b[0mself\u001b[0m\u001b[1;33m.\u001b[0m\u001b[0m_engine\u001b[0m\u001b[1;33m.\u001b[0m\u001b[0mget_loc\u001b[0m\u001b[1;33m(\u001b[0m\u001b[0mcasted_key\u001b[0m\u001b[1;33m)\u001b[0m\u001b[1;33m\u001b[0m\u001b[1;33m\u001b[0m\u001b[0m\n\u001b[0;32m   3362\u001b[0m             \u001b[1;32mexcept\u001b[0m \u001b[0mKeyError\u001b[0m \u001b[1;32mas\u001b[0m \u001b[0merr\u001b[0m\u001b[1;33m:\u001b[0m\u001b[1;33m\u001b[0m\u001b[1;33m\u001b[0m\u001b[0m\n\u001b[1;32m-> 3363\u001b[1;33m                 \u001b[1;32mraise\u001b[0m \u001b[0mKeyError\u001b[0m\u001b[1;33m(\u001b[0m\u001b[0mkey\u001b[0m\u001b[1;33m)\u001b[0m \u001b[1;32mfrom\u001b[0m \u001b[0merr\u001b[0m\u001b[1;33m\u001b[0m\u001b[1;33m\u001b[0m\u001b[0m\n\u001b[0m\u001b[0;32m   3364\u001b[0m \u001b[1;33m\u001b[0m\u001b[0m\n\u001b[0;32m   3365\u001b[0m         \u001b[1;32mif\u001b[0m \u001b[0mis_scalar\u001b[0m\u001b[1;33m(\u001b[0m\u001b[0mkey\u001b[0m\u001b[1;33m)\u001b[0m \u001b[1;32mand\u001b[0m \u001b[0misna\u001b[0m\u001b[1;33m(\u001b[0m\u001b[0mkey\u001b[0m\u001b[1;33m)\u001b[0m \u001b[1;32mand\u001b[0m \u001b[1;32mnot\u001b[0m \u001b[0mself\u001b[0m\u001b[1;33m.\u001b[0m\u001b[0mhasnans\u001b[0m\u001b[1;33m:\u001b[0m\u001b[1;33m\u001b[0m\u001b[1;33m\u001b[0m\u001b[0m\n",
      "\u001b[1;31mKeyError\u001b[0m: 0"
     ]
    }
   ],
   "source": [
    "#need a function to just return thr concatinated cells \n",
    "DMSOfiles = glob.glob(DMSOpath + \"/*.csv\")\n",
    "DMSOFileN= 4 \n",
    "def trials(filelist,condition,):\n",
    "    consolidated_norm= list()\n",
    "    condition= \n",
    "    for i, filename in enumerate(filelist):\n",
    "        df = pd.read_csv(filename, index_col=0, header=None, delimiter=',')\n",
    "        condition= df[i]\n",
    "    return condition\n",
    "ctrl_trials=trials(DMSOfiles,DMSO) \n",
    "ctrl_trials"
   ]
  },
  {
   "cell_type": "code",
   "execution_count": 11,
   "id": "8856a99e-abdb-48be-92a9-1c31c76c0d84",
   "metadata": {},
   "outputs": [],
   "source": [
    "UV1f= 150 #frame number where first irradiation occurred\n",
    "UV2f= 300\n",
    "pre_peaks = ctrl_trials[UV1f-1]"
   ]
  },
  {
   "cell_type": "code",
   "execution_count": 20,
   "id": "dd501a09-6a5a-403f-8001-1b0408df8916",
   "metadata": {},
   "outputs": [
    {
     "data": {
      "text/plain": [
       "42"
      ]
     },
     "execution_count": 20,
     "metadata": {},
     "output_type": "execute_result"
    }
   ],
   "source": [
    "#want to find peaks before and after UV irradiation \n",
    "UV1f= 150 #frame number where first irradiation occurred\n",
    "UV2f= 300\n",
    "ypeakthreshold= 1.25 #peak must be at least this value greater in y than signal before / after, mph \n",
    "xpeakthreshold= 2 #finds tallest peak and eliminates peak in x direction on either side of peak mpd\n",
    "for i in np.arange(ctrl_trials.shape[1]): # for i in the total number of cells in concatinated normalized controls \n",
    "    findprepeak= detect_peaks(ctrl_trials[UV1f-1], mph=ypeakthreshold, mpd=xpeakthreshold) #find peaks withindataset and generate an array\n",
    "prepeaksnorm=len(findprepeak)/ctrl_trials.shape[1]\n",
    "    #findpostpeak=len(detect_peaks(ctrl_trials[UV1f:UV2f], mph=ypeakthreshold, mpd=xpeakthreshold)) \n",
    "len(findprepeak)"
   ]
  },
  {
   "cell_type": "code",
   "execution_count": 21,
   "id": "216039be-320d-4c2d-a0f3-e35a9aa94a3e",
   "metadata": {},
   "outputs": [
    {
     "data": {
      "text/plain": [
       "42"
      ]
     },
     "execution_count": 21,
     "metadata": {},
     "output_type": "execute_result"
    }
   ],
   "source": [
    "\n",
    "y =pre_peaks[findprepeak].sum()\n",
    "len(findprepeak)"
   ]
  },
  {
   "cell_type": "code",
   "execution_count": 137,
   "id": "f4c3cd54-f598-46bb-999f-131bfefffea8",
   "metadata": {},
   "outputs": [
    {
     "data": {
      "text/plain": [
       "247"
      ]
     },
     "execution_count": 137,
     "metadata": {},
     "output_type": "execute_result"
    }
   ],
   "source": [
    "ctrl_trials.shape[1]"
   ]
  },
  {
   "cell_type": "code",
   "execution_count": 155,
   "id": "ce47f9c3-e962-4019-8f6f-a2ff983c8e31",
   "metadata": {},
   "outputs": [
    {
     "data": {
      "text/plain": [
       "(150, 247)"
      ]
     },
     "execution_count": 155,
     "metadata": {},
     "output_type": "execute_result"
    }
   ],
   "source": [
    "ctrl_trials[UV1f:UV2f].shape"
   ]
  },
  {
   "cell_type": "code",
   "execution_count": 154,
   "id": "c94106a4-ec24-4d50-970e-6013c2315dd6",
   "metadata": {},
   "outputs": [
    {
     "data": {
      "text/plain": [
       "(149, 247)"
      ]
     },
     "execution_count": 154,
     "metadata": {},
     "output_type": "execute_result"
    }
   ],
   "source": [
    "ctrl_trials[:UV1f-1].shape"
   ]
  },
  {
   "cell_type": "code",
   "execution_count": null,
   "id": "f2a675d5-e9e8-49b8-9992-64f825da5769",
   "metadata": {},
   "outputs": [],
   "source": []
  }
 ],
 "metadata": {
  "kernelspec": {
   "display_name": "Python 3 (ipykernel)",
   "language": "python",
   "name": "python3"
  },
  "language_info": {
   "codemirror_mode": {
    "name": "ipython",
    "version": 3
   },
   "file_extension": ".py",
   "mimetype": "text/x-python",
   "name": "python",
   "nbconvert_exporter": "python",
   "pygments_lexer": "ipython3",
   "version": "3.9.7"
  }
 },
 "nbformat": 4,
 "nbformat_minor": 5
}
